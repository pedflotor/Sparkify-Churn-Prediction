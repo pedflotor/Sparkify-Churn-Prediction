{
 "cells": [
  {
   "cell_type": "markdown",
   "metadata": {},
   "source": [
    "# Sparkify Project Workspace\n",
    "This workspace contains a tiny subset (128MB) of the full dataset available (12GB). Feel free to use this workspace to build your project, or to explore a smaller subset with Spark before deploying your cluster on the cloud. Instructions for setting up your Spark cluster is included in the last lesson of the Extracurricular Spark Course content.\n",
    "\n",
    "You can follow the steps below to guide your data analysis and model building portion of this project."
   ]
  },
  {
   "cell_type": "code",
   "execution_count": 188,
   "metadata": {},
   "outputs": [],
   "source": [
    "# import libraries\n",
    "import datetime\n",
    "import time\n",
    "import numpy as np\n",
    "import pandas as pd\n",
    "import matplotlib.pyplot as plt\n",
    "import seaborn as sns\n",
    "\n",
    "#! pip install pyspark\n",
    "import pyspark\n",
    "from pyspark import SparkContext, SparkConf\n",
    "from pyspark.sql import SparkSession\n",
    "from pyspark.sql import Window\n",
    "from pyspark.sql.functions import udf, col, concat, count, lit, avg, lag, first, last, when, desc, asc, countDistinct, when, isnan\n",
    "from pyspark.sql.functions import min as Fmin, max as Fmax, sum as Fsum, round as Fround\n",
    "\n",
    "from pyspark.sql.types import IntegerType, FloatType, DateType, TimestampType, StringType\n",
    "\n",
    "from pyspark.ml.feature import CountVectorizer, IDF, Normalizer, PCA, RegexTokenizer, StandardScaler, StopWordsRemover, StringIndexer, VectorAssembler\n",
    "\n",
    "from pyspark.ml.evaluation import MulticlassClassificationEvaluator, RegressionEvaluator\n",
    "from pyspark.ml.classification import GBTClassifier, RandomForestClassifier, LinearSVC, LogisticRegression, DecisionTreeClassifier\n",
    "from pyspark.ml.tuning import CrossValidator, ParamGridBuilder\n",
    "from pyspark.ml import Pipeline\n",
    "\n",
    "from pyspark.ml.regression import LinearRegression\n",
    "\n",
    "\n",
    "%matplotlib inline"
   ]
  },
  {
   "cell_type": "code",
   "execution_count": 7,
   "metadata": {},
   "outputs": [],
   "source": [
    "# create a Spark session\n",
    "spark = SparkSession \\\n",
    "        .builder \\\n",
    "        .appName(\"Sparkify\") \\\n",
    "        .getOrCreate()"
   ]
  },
  {
   "cell_type": "markdown",
   "metadata": {},
   "source": [
    "# Load and Clean Dataset\n",
    "In this workspace, the mini-dataset file is `mini_sparkify_event_data.json`. Load and clean the dataset, checking for invalid or missing data - for example, records without userids or sessionids. "
   ]
  },
  {
   "cell_type": "code",
   "execution_count": 8,
   "metadata": {},
   "outputs": [],
   "source": [
    "path = \"mini_sparkify_event_data.json\"\n",
    "sparkify_events = spark.read.json(path)"
   ]
  },
  {
   "cell_type": "markdown",
   "metadata": {},
   "source": [
    "# Exploratory Data Analysis\n",
    "When you're working with the full dataset, perform EDA by loading a small subset of the data and doing basic manipulations within Spark. In this workspace, you are already provided a small subset of data you can explore."
   ]
  },
  {
   "cell_type": "code",
   "execution_count": 9,
   "metadata": {},
   "outputs": [
    {
     "name": "stdout",
     "output_type": "stream",
     "text": [
      "root\n",
      " |-- artist: string (nullable = true)\n",
      " |-- auth: string (nullable = true)\n",
      " |-- firstName: string (nullable = true)\n",
      " |-- gender: string (nullable = true)\n",
      " |-- itemInSession: long (nullable = true)\n",
      " |-- lastName: string (nullable = true)\n",
      " |-- length: double (nullable = true)\n",
      " |-- level: string (nullable = true)\n",
      " |-- location: string (nullable = true)\n",
      " |-- method: string (nullable = true)\n",
      " |-- page: string (nullable = true)\n",
      " |-- registration: long (nullable = true)\n",
      " |-- sessionId: long (nullable = true)\n",
      " |-- song: string (nullable = true)\n",
      " |-- status: long (nullable = true)\n",
      " |-- ts: long (nullable = true)\n",
      " |-- userAgent: string (nullable = true)\n",
      " |-- userId: string (nullable = true)\n",
      "\n"
     ]
    }
   ],
   "source": [
    "sparkify_events.printSchema()"
   ]
  },
  {
   "cell_type": "code",
   "execution_count": 10,
   "metadata": {},
   "outputs": [
    {
     "name": "stdout",
     "output_type": "stream",
     "text": [
      "The number of rows is 286500\n",
      "The number of columns is 18\n"
     ]
    }
   ],
   "source": [
    "print(\"The number of rows is\", sparkify_events.count())\n",
    "print(\"The number of columns is\", len(sparkify_events.columns))"
   ]
  },
  {
   "cell_type": "code",
   "execution_count": 11,
   "metadata": {},
   "outputs": [
    {
     "name": "stdout",
     "output_type": "stream",
     "text": [
      "+----------+------+\n",
      "|      auth| count|\n",
      "+----------+------+\n",
      "|Logged Out|  8249|\n",
      "| Cancelled|    52|\n",
      "|     Guest|    97|\n",
      "| Logged In|278102|\n",
      "+----------+------+\n",
      "\n",
      "None\n",
      "+------+------+\n",
      "|gender| count|\n",
      "+------+------+\n",
      "|     F|154578|\n",
      "|  null|  8346|\n",
      "|     M|123576|\n",
      "+------+------+\n",
      "\n",
      "None\n",
      "+--------------------+-----+\n",
      "|            location|count|\n",
      "+--------------------+-----+\n",
      "|     Gainesville, FL| 1229|\n",
      "|Atlantic City-Ham...| 2176|\n",
      "|Deltona-Daytona B...|   73|\n",
      "|San Diego-Carlsba...|  754|\n",
      "|Cleveland-Elyria, OH| 1392|\n",
      "|Kingsport-Bristol...| 1863|\n",
      "|New Haven-Milford...| 4007|\n",
      "|Birmingham-Hoover...|   75|\n",
      "|  Corpus Christi, TX|   11|\n",
      "|         Dubuque, IA|  651|\n",
      "|Las Vegas-Henders...| 2042|\n",
      "|Indianapolis-Carm...|  970|\n",
      "|Seattle-Tacoma-Be...|  246|\n",
      "|          Albany, OR|   23|\n",
      "|   Winston-Salem, NC|  819|\n",
      "|     Bakersfield, CA| 1775|\n",
      "|Los Angeles-Long ...|30131|\n",
      "|Minneapolis-St. P...| 2134|\n",
      "|San Francisco-Oak...| 2647|\n",
      "|Phoenix-Mesa-Scot...| 4846|\n",
      "|Allentown-Bethleh...|  815|\n",
      "|Miami-Fort Lauder...| 3764|\n",
      "|           Selma, AL| 2027|\n",
      "|          Dayton, OH|  259|\n",
      "|San Jose-Sunnyval...| 1603|\n",
      "|Bridgeport-Stamfo...|  893|\n",
      "|           Price, UT| 1102|\n",
      "|Providence-Warwic...|  927|\n",
      "|     Columbus, GA-AL| 2716|\n",
      "|Greenville-Anders...|  668|\n",
      "+--------------------+-----+\n",
      "only showing top 30 rows\n",
      "\n",
      "None\n",
      "+-----+------+\n",
      "|level| count|\n",
      "+-----+------+\n",
      "| free| 58338|\n",
      "| paid|228162|\n",
      "+-----+------+\n",
      "\n",
      "None\n",
      "+------+------+\n",
      "|method| count|\n",
      "+------+------+\n",
      "|   PUT|261064|\n",
      "|   GET| 25436|\n",
      "+------+------+\n",
      "\n",
      "None\n",
      "+--------------------+------+\n",
      "|                page| count|\n",
      "+--------------------+------+\n",
      "|              Cancel|    52|\n",
      "|    Submit Downgrade|    63|\n",
      "|         Thumbs Down|  2546|\n",
      "|                Home| 14457|\n",
      "|           Downgrade|  2055|\n",
      "|         Roll Advert|  3933|\n",
      "|              Logout|  3226|\n",
      "|       Save Settings|   310|\n",
      "|Cancellation Conf...|    52|\n",
      "|               About|   924|\n",
      "| Submit Registration|     5|\n",
      "|            Settings|  1514|\n",
      "|               Login|  3241|\n",
      "|            Register|    18|\n",
      "|     Add to Playlist|  6526|\n",
      "|          Add Friend|  4277|\n",
      "|            NextSong|228108|\n",
      "|           Thumbs Up| 12551|\n",
      "|                Help|  1726|\n",
      "|             Upgrade|   499|\n",
      "|               Error|   258|\n",
      "|      Submit Upgrade|   159|\n",
      "+--------------------+------+\n",
      "\n",
      "None\n",
      "+------+------+\n",
      "|status| count|\n",
      "+------+------+\n",
      "|   307| 26430|\n",
      "|   404|   258|\n",
      "|   200|259812|\n",
      "+------+------+\n",
      "\n",
      "None\n",
      "+-------------+-----+\n",
      "| registration|count|\n",
      "+-------------+-----+\n",
      "|1529027541000| 9632|\n",
      "|1533192032000| 1654|\n",
      "|1537779419000|  512|\n",
      "|1534627466000|  187|\n",
      "|1535389443000|  310|\n",
      "|1536642109000| 6880|\n",
      "|1537167593000|  108|\n",
      "|1536854322000|  638|\n",
      "|1533908361000| 1399|\n",
      "|1536817381000|  918|\n",
      "|1536663902000| 2465|\n",
      "|1537672236000| 2130|\n",
      "|1536956945000|  478|\n",
      "|1537611935000| 4659|\n",
      "|1537751138000|  955|\n",
      "|1533532298000|  174|\n",
      "|1537057938000|  651|\n",
      "|1537964483000|   44|\n",
      "|1528772084000|  394|\n",
      "|1537440271000|  940|\n",
      "|1536303841000|  315|\n",
      "|1534768517000|  861|\n",
      "|1537484200000|  815|\n",
      "|1538050164000| 2064|\n",
      "|1532450666000|  209|\n",
      "|1536032681000|  292|\n",
      "|1534461078000|  446|\n",
      "|1538331630000| 3191|\n",
      "|1536102943000|  457|\n",
      "|1536831228000| 1547|\n",
      "+-------------+-----+\n",
      "only showing top 30 rows\n",
      "\n",
      "None\n"
     ]
    }
   ],
   "source": [
    "# Check the unique values of some categories to have an idea of the data\n",
    "for col in ['auth', 'gender', 'location', 'level', 'method', 'page', 'status', 'registration']:\n",
    "    print(sparkify_events.groupby(col).count().show(30))"
   ]
  },
  {
   "cell_type": "code",
   "execution_count": 12,
   "metadata": {},
   "outputs": [
    {
     "name": "stdout",
     "output_type": "stream",
     "text": [
      "-RECORD 0------------------------------------------------------------------------------------------------------------------------\n",
      " artist        | Martha Tilston                                                                                                  \n",
      " auth          | Logged In                                                                                                       \n",
      " firstName     | Colin                                                                                                           \n",
      " gender        | M                                                                                                               \n",
      " itemInSession | 50                                                                                                              \n",
      " lastName      | Freeman                                                                                                         \n",
      " length        | 277.89016                                                                                                       \n",
      " level         | paid                                                                                                            \n",
      " location      | Bakersfield, CA                                                                                                 \n",
      " method        | PUT                                                                                                             \n",
      " page          | NextSong                                                                                                        \n",
      " registration  | 1538173362000                                                                                                   \n",
      " sessionId     | 29                                                                                                              \n",
      " song          | Rockpools                                                                                                       \n",
      " status        | 200                                                                                                             \n",
      " ts            | 1538352117000                                                                                                   \n",
      " userAgent     | Mozilla/5.0 (Windows NT 6.1; WOW64; rv:31.0) Gecko/20100101 Firefox/31.0                                        \n",
      " userId        | 30                                                                                                              \n",
      "-RECORD 1------------------------------------------------------------------------------------------------------------------------\n",
      " artist        | Five Iron Frenzy                                                                                                \n",
      " auth          | Logged In                                                                                                       \n",
      " firstName     | Micah                                                                                                           \n",
      " gender        | M                                                                                                               \n",
      " itemInSession | 79                                                                                                              \n",
      " lastName      | Long                                                                                                            \n",
      " length        | 236.09424                                                                                                       \n",
      " level         | free                                                                                                            \n",
      " location      | Boston-Cambridge-Newton, MA-NH                                                                                  \n",
      " method        | PUT                                                                                                             \n",
      " page          | NextSong                                                                                                        \n",
      " registration  | 1538331630000                                                                                                   \n",
      " sessionId     | 8                                                                                                               \n",
      " song          | Canada                                                                                                          \n",
      " status        | 200                                                                                                             \n",
      " ts            | 1538352180000                                                                                                   \n",
      " userAgent     | \"Mozilla/5.0 (Windows NT 6.1; WOW64) AppleWebKit/537.36 (KHTML, like Gecko) Chrome/37.0.2062.103 Safari/537.36\" \n",
      " userId        | 9                                                                                                               \n",
      "only showing top 2 rows\n",
      "\n"
     ]
    }
   ],
   "source": [
    "# Print first 2 lines of 'sparkify_events'\n",
    "sparkify_events.show(n=2, truncate=False, vertical=True)"
   ]
  },
  {
   "cell_type": "markdown",
   "metadata": {},
   "source": [
    "### Clean Data"
   ]
  },
  {
   "cell_type": "markdown",
   "metadata": {},
   "source": [
    "#### Missing values"
   ]
  },
  {
   "cell_type": "code",
   "execution_count": 13,
   "metadata": {},
   "outputs": [
    {
     "name": "stdout",
     "output_type": "stream",
     "text": [
      "In column ( artist ) the number of missing values is 58392\n",
      "In column ( auth ) the number of missing values is 0\n",
      "In column ( firstName ) the number of missing values is 8346\n",
      "In column ( gender ) the number of missing values is 8346\n",
      "In column ( itemInSession ) the number of missing values is 0\n",
      "In column ( lastName ) the number of missing values is 8346\n",
      "In column ( length ) the number of missing values is 58392\n",
      "In column ( level ) the number of missing values is 0\n",
      "In column ( location ) the number of missing values is 8346\n",
      "In column ( method ) the number of missing values is 0\n",
      "In column ( page ) the number of missing values is 0\n",
      "In column ( registration ) the number of missing values is 8346\n",
      "In column ( sessionId ) the number of missing values is 0\n",
      "In column ( song ) the number of missing values is 58392\n",
      "In column ( status ) the number of missing values is 0\n",
      "In column ( ts ) the number of missing values is 0\n",
      "In column ( userAgent ) the number of missing values is 8346\n",
      "In column ( userId ) the number of missing values is 0\n"
     ]
    }
   ],
   "source": [
    "# Check columns with NaN values\n",
    "for value in sparkify_events.columns:\n",
    "    print (\"In column (\",value,\") the number of missing values is\", sparkify_events.where(sparkify_events[value].isNull()).count())"
   ]
  },
  {
   "cell_type": "markdown",
   "metadata": {},
   "source": [
    "#### Empty values"
   ]
  },
  {
   "cell_type": "code",
   "execution_count": 14,
   "metadata": {},
   "outputs": [
    {
     "name": "stdout",
     "output_type": "stream",
     "text": [
      "In column ( artist ) the number of empty values is 0\n",
      "In column ( auth ) the number of empty values is 0\n",
      "In column ( firstName ) the number of empty values is 0\n",
      "In column ( gender ) the number of empty values is 0\n",
      "In column ( itemInSession ) the number of empty values is 0\n",
      "In column ( lastName ) the number of empty values is 0\n",
      "In column ( length ) the number of empty values is 0\n",
      "In column ( level ) the number of empty values is 0\n",
      "In column ( location ) the number of empty values is 0\n",
      "In column ( method ) the number of empty values is 0\n",
      "In column ( page ) the number of empty values is 0\n",
      "In column ( registration ) the number of empty values is 0\n",
      "In column ( sessionId ) the number of empty values is 0\n",
      "In column ( song ) the number of empty values is 0\n",
      "In column ( status ) the number of empty values is 0\n",
      "In column ( ts ) the number of empty values is 0\n",
      "In column ( userAgent ) the number of empty values is 0\n",
      "In column ( userId ) the number of empty values is 8346\n"
     ]
    }
   ],
   "source": [
    "# Check columns with empty values\n",
    "for value in sparkify_events.columns:\n",
    "    print (\"In column (\",value,\") the number of empty values is\", sparkify_events.filter(sparkify_events[value] == '').count())"
   ]
  },
  {
   "cell_type": "code",
   "execution_count": null,
   "metadata": {},
   "outputs": [],
   "source": []
  },
  {
   "cell_type": "code",
   "execution_count": 15,
   "metadata": {},
   "outputs": [],
   "source": [
    "# Delete columns with empty userid\n",
    "sparkify_events = sparkify_events.filter(sparkify_events.userId != \"\")"
   ]
  },
  {
   "cell_type": "code",
   "execution_count": 16,
   "metadata": {},
   "outputs": [
    {
     "name": "stdout",
     "output_type": "stream",
     "text": [
      "In column ( artist ) the number of empty values is 0\n",
      "In column ( auth ) the number of empty values is 0\n",
      "In column ( firstName ) the number of empty values is 0\n",
      "In column ( gender ) the number of empty values is 0\n",
      "In column ( itemInSession ) the number of empty values is 0\n",
      "In column ( lastName ) the number of empty values is 0\n",
      "In column ( length ) the number of empty values is 0\n",
      "In column ( level ) the number of empty values is 0\n",
      "In column ( location ) the number of empty values is 0\n",
      "In column ( method ) the number of empty values is 0\n",
      "In column ( page ) the number of empty values is 0\n",
      "In column ( registration ) the number of empty values is 0\n",
      "In column ( sessionId ) the number of empty values is 0\n",
      "In column ( song ) the number of empty values is 0\n",
      "In column ( status ) the number of empty values is 0\n",
      "In column ( ts ) the number of empty values is 0\n",
      "In column ( userAgent ) the number of empty values is 0\n",
      "In column ( userId ) the number of empty values is 0\n"
     ]
    }
   ],
   "source": [
    "# Check columns with empty values\n",
    "for value in sparkify_events.columns:\n",
    "    print (\"In column (\",value,\") the number of empty values is\", sparkify_events.filter(sparkify_events[value] == '').count())"
   ]
  },
  {
   "cell_type": "markdown",
   "metadata": {},
   "source": [
    "We got rid of the userId rows that were empty. Now let's take a look at the NaN values"
   ]
  },
  {
   "cell_type": "code",
   "execution_count": 17,
   "metadata": {},
   "outputs": [
    {
     "name": "stdout",
     "output_type": "stream",
     "text": [
      "In column ( artist ) the number of missing values is 50046\n",
      "In column ( auth ) the number of missing values is 0\n",
      "In column ( firstName ) the number of missing values is 0\n",
      "In column ( gender ) the number of missing values is 0\n",
      "In column ( itemInSession ) the number of missing values is 0\n",
      "In column ( lastName ) the number of missing values is 0\n",
      "In column ( length ) the number of missing values is 50046\n",
      "In column ( level ) the number of missing values is 0\n",
      "In column ( location ) the number of missing values is 0\n",
      "In column ( method ) the number of missing values is 0\n",
      "In column ( page ) the number of missing values is 0\n",
      "In column ( registration ) the number of missing values is 0\n",
      "In column ( sessionId ) the number of missing values is 0\n",
      "In column ( song ) the number of missing values is 50046\n",
      "In column ( status ) the number of missing values is 0\n",
      "In column ( ts ) the number of missing values is 0\n",
      "In column ( userAgent ) the number of missing values is 0\n",
      "In column ( userId ) the number of missing values is 0\n"
     ]
    }
   ],
   "source": [
    "# Check columns with NaN values\n",
    "for value in sparkify_events.columns:\n",
    "    print (\"In column (\",value,\") the number of missing values is\", sparkify_events.where(sparkify_events[value].isNull()).count())"
   ]
  },
  {
   "cell_type": "code",
   "execution_count": null,
   "metadata": {},
   "outputs": [],
   "source": []
  },
  {
   "cell_type": "code",
   "execution_count": null,
   "metadata": {},
   "outputs": [],
   "source": []
  },
  {
   "cell_type": "markdown",
   "metadata": {},
   "source": [
    "### Define Churn\n",
    "\n",
    "Once you've done some preliminary analysis, create a column `Churn` to use as the label for your model. I suggest using the `Cancellation Confirmation` events to define your churn, which happen for both paid and free users. As a bonus task, you can also look into the `Downgrade` events."
   ]
  },
  {
   "cell_type": "markdown",
   "metadata": {},
   "source": [
    "#### Cancellation Confirmation"
   ]
  },
  {
   "cell_type": "code",
   "execution_count": 18,
   "metadata": {},
   "outputs": [],
   "source": [
    "# Flag definition for churn (Cancellation Confirmation)\n",
    "churn_flag = udf(lambda x: 1 if x == \"Cancellation Confirmation\" else 0, IntegerType())\n",
    "sparkify_events = sparkify_events.withColumn(\"churn\", churn_flag(\"page\"))\n",
    "\n",
    "# Apply churn flag to dataset\n",
    "window_val = Window.partitionBy(\"userId\")\n",
    "sparkify_events = sparkify_events.withColumn(\"churn\", Fsum(\"churn\").over(window_val))"
   ]
  },
  {
   "cell_type": "code",
   "execution_count": 19,
   "metadata": {},
   "outputs": [
    {
     "name": "stdout",
     "output_type": "stream",
     "text": [
      "+-----+-----+\n",
      "|churn|count|\n",
      "+-----+-----+\n",
      "|    0|  173|\n",
      "|    1|   52|\n",
      "+-----+-----+\n",
      "\n"
     ]
    }
   ],
   "source": [
    "# Churned users\n",
    "sparkify_events[\"userId\", \"churn\"].dropDuplicates().groupby(\"churn\").count().show()"
   ]
  },
  {
   "cell_type": "markdown",
   "metadata": {},
   "source": [
    "#### Downgrade Events"
   ]
  },
  {
   "cell_type": "code",
   "execution_count": 20,
   "metadata": {},
   "outputs": [],
   "source": [
    "# Flag definition for churn (Downgrade)\n",
    "churn_downgrade = udf(lambda x: 1 if x == \"Downgrade\" else 0, IntegerType())\n",
    "sparkify_events = sparkify_events.withColumn(\"downgrade\", churn_downgrade(\"page\"))\n",
    "\n",
    "# Apply churn flag to dataset\n",
    "windowval_val = Window.partitionBy(\"userId\")\n",
    "sparkify_events = sparkify_events.withColumn(\"downgrade\", Fsum(\"downgrade\").over(windowval_val))"
   ]
  },
  {
   "cell_type": "code",
   "execution_count": 21,
   "metadata": {},
   "outputs": [
    {
     "name": "stdout",
     "output_type": "stream",
     "text": [
      "+---------+-----+\n",
      "|downgrade|count|\n",
      "+---------+-----+\n",
      "|       26|    2|\n",
      "|       19|    2|\n",
      "|        0|   71|\n",
      "|       22|    5|\n",
      "|        7|    4|\n",
      "|       50|    1|\n",
      "|       32|    2|\n",
      "|       31|    1|\n",
      "|       39|    1|\n",
      "|       25|    2|\n",
      "|        6|    9|\n",
      "|       68|    1|\n",
      "|        9|   11|\n",
      "|       27|    1|\n",
      "|       17|    2|\n",
      "|       41|    2|\n",
      "|       28|    2|\n",
      "|        5|   12|\n",
      "|        1|    6|\n",
      "|       10|    8|\n",
      "+---------+-----+\n",
      "only showing top 20 rows\n",
      "\n"
     ]
    }
   ],
   "source": [
    "# Downgraded users\n",
    "sparkify_events[\"userId\", \"downgrade\"].dropDuplicates().groupby(\"downgrade\").count().show()"
   ]
  },
  {
   "cell_type": "markdown",
   "metadata": {},
   "source": [
    "### Explore Data\n",
    "Once you've defined churn, perform some exploratory data analysis to observe the behavior for users who stayed vs users who churned. You can start by exploring aggregates on these two groups of users, observing how much of a specific action they experienced per a certain time unit or number of songs played."
   ]
  },
  {
   "cell_type": "markdown",
   "metadata": {},
   "source": [
    "#### Churn by gender\n",
    "We will start taking a look at the churn rate by gender"
   ]
  },
  {
   "cell_type": "code",
   "execution_count": 98,
   "metadata": {},
   "outputs": [
    {
     "data": {
      "image/png": "[encoded data removed]",
      "text/plain": [
       "<Figure size 1008x864 with 1 Axes>"
      ]
     },
     "metadata": {},
     "output_type": "display_data"
    }
   ],
   "source": [
    "# Churn by Gender\n",
    "churn_g = sparkify_events.groupby('gender', 'churn').agg(countDistinct('userId')).toPandas().\\\n",
    "          rename(columns = {'count(userId)':'n_users'}).pivot(index = 'gender', columns = 'churn', values = 'n_users').\\\n",
    "          rename(columns = {0:'Not Churned', 1:'Churned'})\n",
    "\n",
    "churn_g['All']= churn_g['Not Churned'] + churn_g['Churned']\n",
    "churn_g['Churned'] = churn_g['Churned'] / churn_g['All']\n",
    "churn_g['Not Churned'] = 1 - churn_g['Churned']\n",
    "\n",
    "fig = plt.figure(figsize = (14, 12))\n",
    "ax1 = fig.add_subplot(2,1,2)\n",
    "churn_g[['Churned','Not Churned']].plot(kind = 'bar', ax = ax1, stacked = True)\n",
    "plt.title('Churn Rates by Gender', fontsize=16)\n",
    "plt.ylabel(\"Rate\", fontsize=12, fontweight='bold')\n",
    "plt.xlabel(\"Gender\", fontsize=12, fontweight='bold')\n",
    "plt.legend(loc = 'best')\n",
    "plt.grid(axis='x')"
   ]
  },
  {
   "cell_type": "markdown",
   "metadata": {},
   "source": [
    "It seems that Male users have a slightly more tendency to cancel their subscription"
   ]
  },
  {
   "cell_type": "markdown",
   "metadata": {},
   "source": [
    "#### Page events\n",
    "Now we will take a look at the number of \"page\" events registered in the dataset"
   ]
  },
  {
   "cell_type": "code",
   "execution_count": 99,
   "metadata": {},
   "outputs": [
    {
     "data": {
      "text/plain": [
       "Text(0.5, 0, 'Number of interactions')"
      ]
     },
     "execution_count": 99,
     "metadata": {},
     "output_type": "execute_result"
    },
    {
     "data": {
      "image/png": "[encoded data removed]",
      "text/plain": [
       "<Figure size 864x432 with 1 Axes>"
      ]
     },
     "metadata": {},
     "output_type": "display_data"
    }
   ],
   "source": [
    "# Number of \"page\" events registered\n",
    "data = sparkify_events.groupby(\"page\").count().alias(\"count\").toPandas()\n",
    "plt.figure(figsize=(12, 6))\n",
    "sns.set_style(\"whitegrid\")\n",
    "ax = sns.barplot(x=\"count\", y=\"page\", data=data)\n",
    "ax.set_title(\"Number of 'page' events registered\", fontsize=16)\n",
    "ax.set_ylabel(\"Event type\", fontsize=12, weight='bold')\n",
    "ax.set_xlabel(\"Number of interactions\", fontsize=12, weight='bold')"
   ]
  },
  {
   "cell_type": "code",
   "execution_count": 100,
   "metadata": {},
   "outputs": [
    {
     "data": {
      "text/plain": [
       "Text(0.5, 0, 'Number of interactions')"
      ]
     },
     "execution_count": 100,
     "metadata": {},
     "output_type": "execute_result"
    },
    {
     "data": {
      "image/png": "[encoded data removed]",
      "text/plain": [
       "<Figure size 864x432 with 1 Axes>"
      ]
     },
     "metadata": {},
     "output_type": "display_data"
    }
   ],
   "source": [
    "# Number of \"page\" events registered without 'NextSong'\n",
    "plt.figure(figsize=(12, 6))\n",
    "sns.set_style(\"whitegrid\")\n",
    "ax = sns.barplot(x=\"count\", y=\"page\", data=data[data.page!='NextSong'])\n",
    "ax.set_title(\"Number of 'page' events registered\", fontsize=16)\n",
    "ax.set_ylabel(\"Event type\", fontsize=12, weight='bold')\n",
    "ax.set_xlabel(\"Number of interactions\", fontsize=12, weight='bold')"
   ]
  },
  {
   "cell_type": "markdown",
   "metadata": {},
   "source": [
    "As expected in a music service, \"NextSong\" event is the one with the most interactions"
   ]
  },
  {
   "cell_type": "markdown",
   "metadata": {},
   "source": [
    "#### Days passed until Cancellation Confirmation\n",
    "Let's calculate the days that users take to submit a Cancellation Confirmation event"
   ]
  },
  {
   "cell_type": "code",
   "execution_count": 25,
   "metadata": {},
   "outputs": [],
   "source": [
    "# Filter to users that have confirmed the cancellation\n",
    "cancel_sparkify_date = sparkify_events[sparkify_events['page'] == 'Cancellation Confirmation'].toPandas()\n",
    "\n",
    "# Take the columns we are interested in\n",
    "cancel_sparkify_date = cancel_sparkify_date[[\"ts\",\"registration\"]]\n",
    "\n",
    "# Convert the columns dividing by 1000 first\n",
    "cancel_sparkify_date['ts'] = cancel_sparkify_date['ts'].apply(lambda x: datetime.datetime.fromtimestamp(x / 1000.0))\n",
    "cancel_sparkify_date['registration'] = cancel_sparkify_date['registration'].apply(lambda x: datetime.datetime.fromtimestamp(x / 1000.0))\n",
    "\n",
    "# Substract the time they cancelled to the time they registered\n",
    "cancel_sparkify_date['diff_days'] = cancel_sparkify_date['ts'] - cancel_sparkify_date['registration']\n",
    "cancel_sparkify_date['diff_days'] = cancel_sparkify_date['diff_days'] / np.timedelta64(1,'D')"
   ]
  },
  {
   "cell_type": "code",
   "execution_count": 26,
   "metadata": {},
   "outputs": [
    {
     "name": "stdout",
     "output_type": "stream",
     "text": [
      "Average days that users take until they cancel the music service: 57.28756343482909\n",
      "Median days that users take until they cancel the music service: 51.28939236111111\n"
     ]
    }
   ],
   "source": [
    "# Average and median days until user cancels the service\n",
    "print(\"Average days that users take until they cancel the music service:\", cancel_sparkify_date[\"diff_days\"].mean())\n",
    "print(\"Median days that users take until they cancel the music service:\", cancel_sparkify_date[\"diff_days\"].median())"
   ]
  },
  {
   "cell_type": "code",
   "execution_count": 27,
   "metadata": {},
   "outputs": [
    {
     "data": {
      "image/png": "[encoded data removed]",
      "text/plain": [
       "<Figure size 1008x504 with 1 Axes>"
      ]
     },
     "metadata": {},
     "output_type": "display_data"
    }
   ],
   "source": [
    "# Average days until user cancels the service\n",
    "plt.figure(figsize=(14, 7))\n",
    "sns.set_style(\"whitegrid\")\n",
    "ax = sns.boxplot(x='diff_days', orient=\"h\", data=cancel_sparkify_date)\n",
    "ax.set_title(\"Days until user cancels the music service\", fontsize=16)\n",
    "ax.set_xlabel(\"Days\", fontsize=12, weight='bold')\n",
    "ax.set_ylabel(\"User Churned\", fontsize=12, weight='bold');"
   ]
  },
  {
   "cell_type": "markdown",
   "metadata": {},
   "source": [
    "Let's create a function for drawing boxplots"
   ]
  },
  {
   "cell_type": "code",
   "execution_count": 28,
   "metadata": {},
   "outputs": [],
   "source": [
    "def draw_boxplot(title = \"Thumbs Up per sessionId between users that churned and not\",\\\n",
    "                 xlabel = \"Number of 'Thumbs Up'\", ylabel = \"Churn\", style=\"whitegrid\", x_data = \"count\",\\\n",
    "                 y_data = \"churn\", orientation = \"h\", df = data):\n",
    "    '''\n",
    "    INPUT:\n",
    "    title - the title of the plot\n",
    "    xlabel - the name of the x axis\n",
    "    ylabel - the name of the y axis\n",
    "    style - style of the plot\n",
    "    x_data - column to plot in x axis\n",
    "    y_data - column to plot in y axis\n",
    "    orientation - select if the boxplot is horizontal or vertical\n",
    "    df - dataframe with the data\n",
    "    OUTPUT:\n",
    "    Boxplot of the data\n",
    "    \n",
    "    Takes a dataframe a draw a boxplot of the desired columns\n",
    "    '''\n",
    "    plt.figure(figsize=(14, 7))\n",
    "    sns.set_style(style)\n",
    "    ax = sns.boxplot(x=x_data, y=y_data, orient=orientation, data=df)\n",
    "    ax.set_title(title, fontsize=16)\n",
    "    ax.set_xlabel(xlabel, fontsize=12, weight='bold')\n",
    "    ax.set_ylabel(ylabel, fontsize=12, weight='bold')"
   ]
  },
  {
   "cell_type": "markdown",
   "metadata": {},
   "source": [
    "#### 'Thumbs up' interactions"
   ]
  },
  {
   "cell_type": "code",
   "execution_count": 29,
   "metadata": {},
   "outputs": [
    {
     "data": {
      "image/png": "[encoded data removed]",
      "text/plain": [
       "<Figure size 1008x504 with 1 Axes>"
      ]
     },
     "metadata": {},
     "output_type": "display_data"
    },
    {
     "data": {
      "image/png": "[encoded data removed]",
      "text/plain": [
       "<Figure size 1008x504 with 1 Axes>"
      ]
     },
     "metadata": {},
     "output_type": "display_data"
    }
   ],
   "source": [
    "# Thumbs Up per sessionId and churn\n",
    "data = sparkify_events.filter(sparkify_events['page'] == 'Thumbs Up').groupby(\"userId\", \"churn\", \"sessionId\").count().toPandas()\n",
    "draw_boxplot(\"Thumbs Up per sessionId between users that churned and not\", \"Number of 'Thumbs Up'\",\\\n",
    "             \"Churn\", \"whitegrid\", \"count\", \"churn\", \"h\", data)\n",
    "\n",
    "# Thumbs Up per userId and churn\n",
    "data = sparkify_events.filter(sparkify_events['page'] == 'Thumbs Up').groupby(\"userId\", \"churn\",).count().toPandas()\n",
    "draw_boxplot(\"Thumbs Up per userId between users that churned and not\", \"Number of 'Thumbs Up'\",\\\n",
    "             \"Churn\", \"whitegrid\", \"count\", \"churn\", \"h\", data)"
   ]
  },
  {
   "cell_type": "markdown",
   "metadata": {},
   "source": [
    "#### 'Add Friend' interactions"
   ]
  },
  {
   "cell_type": "code",
   "execution_count": 30,
   "metadata": {},
   "outputs": [
    {
     "data": {
      "image/png": "[encoded data removed]",
      "text/plain": [
       "<Figure size 1008x504 with 1 Axes>"
      ]
     },
     "metadata": {},
     "output_type": "display_data"
    },
    {
     "data": {
      "image/png": "[encoded data removed]",
      "text/plain": [
       "<Figure size 1008x504 with 1 Axes>"
      ]
     },
     "metadata": {},
     "output_type": "display_data"
    }
   ],
   "source": [
    "# Add Friend per sessionId and churn\n",
    "data = sparkify_events.filter(sparkify_events['page'] == 'Add Friend').groupby(\"userId\", \"churn\", \"sessionId\").count().toPandas()\n",
    "draw_boxplot(\"Add Friend per sessionId between users that churned and not\", \"Number of 'Add Friend'\",\\\n",
    "             \"Churn\", \"whitegrid\", \"count\", \"churn\", \"h\", data)\n",
    "\n",
    "# Add Friend per userId and churn\n",
    "data = sparkify_events.filter(sparkify_events['page'] == 'Add Friend').groupby(\"userId\", \"churn\").count().toPandas()\n",
    "draw_boxplot(\"Add Friend per userId between users that churned and not\", \"Number of 'Add Friend'\",\\\n",
    "             \"Churn\", \"whitegrid\", \"count\", \"churn\", \"h\", data)"
   ]
  },
  {
   "cell_type": "markdown",
   "metadata": {},
   "source": [
    "#### 'Help' interactions"
   ]
  },
  {
   "cell_type": "code",
   "execution_count": 31,
   "metadata": {},
   "outputs": [
    {
     "data": {
      "image/png": "[encoded data removed]",
      "text/plain": [
       "<Figure size 1008x504 with 1 Axes>"
      ]
     },
     "metadata": {},
     "output_type": "display_data"
    },
    {
     "data": {
      "image/png": "[encoded data removed]",
      "text/plain": [
       "<Figure size 1008x504 with 1 Axes>"
      ]
     },
     "metadata": {},
     "output_type": "display_data"
    }
   ],
   "source": [
    "# Help requests per sessionId and churn\n",
    "data = sparkify_events.filter(sparkify_events['page'] == 'Help').groupby(\"userId\", \"churn\", \"sessionId\").count().toPandas()\n",
    "draw_boxplot(\"Help requests per sessionId between users that churned and not\", \"Number of 'Help' requests\",\\\n",
    "             \"Churn\", \"whitegrid\", \"count\", \"churn\", \"h\", data)\n",
    "\n",
    "# Help requests per userId and churn\n",
    "data = sparkify_events.filter(sparkify_events['page'] == 'Help').groupby(\"userId\", \"churn\").count().toPandas()\n",
    "draw_boxplot(\"Help requests per userId between users that churned and not\", \"Number of 'Help' requests\",\\\n",
    "             \"Churn\", \"whitegrid\", \"count\", \"churn\", \"h\", data)"
   ]
  },
  {
   "cell_type": "markdown",
   "metadata": {},
   "source": [
    "#### 'Next Song' interactions"
   ]
  },
  {
   "cell_type": "code",
   "execution_count": 32,
   "metadata": {},
   "outputs": [
    {
     "data": {
      "image/png": "[encoded data removed]",
      "text/plain": [
       "<Figure size 1008x504 with 1 Axes>"
      ]
     },
     "metadata": {},
     "output_type": "display_data"
    },
    {
     "data": {
      "image/png": "[encoded data removed]",
      "text/plain": [
       "<Figure size 1008x504 with 1 Axes>"
      ]
     },
     "metadata": {},
     "output_type": "display_data"
    }
   ],
   "source": [
    "# Next Song per sessionId and churn\n",
    "data = sparkify_events.filter(sparkify_events['page'] == 'NextSong').groupby(\"userId\", \"churn\", \"sessionId\").count().toPandas()\n",
    "draw_boxplot(\"NextSong requests per sessionId between users that churned and not\", \"Number of 'Help' requests\",\\\n",
    "             \"Churn\", \"whitegrid\", \"count\", \"churn\", \"h\", data)\n",
    "\n",
    "# Next Song per userId and churn\n",
    "data = sparkify_events.filter(sparkify_events['page'] == 'NextSong').groupby(\"userId\", \"churn\").count().toPandas()\n",
    "draw_boxplot(\"NextSong requests per userId between users that churned and not\", \"Number of 'Help' requests\",\\\n",
    "             \"Churn\", \"whitegrid\", \"count\", \"churn\", \"h\", data)"
   ]
  },
  {
   "cell_type": "markdown",
   "metadata": {},
   "source": [
    "#### Churn by device"
   ]
  },
  {
   "cell_type": "code",
   "execution_count": 33,
   "metadata": {},
   "outputs": [],
   "source": [
    "# User defined function to split the name of the device from the userAgent column\n",
    "split_device = udf(lambda x: x.split('(')[1].split(';')[0].split(' ')[0])\n",
    "\n",
    "# Add the column with the device used to sparkify_events\n",
    "sparkify_events = sparkify_events.withColumn(\"device\", split_device(sparkify_events.userAgent))"
   ]
  },
  {
   "cell_type": "code",
   "execution_count": 34,
   "metadata": {},
   "outputs": [
    {
     "data": {
      "image/png": "[encoded data removed]",
      "text/plain": [
       "<Figure size 1008x864 with 1 Axes>"
      ]
     },
     "metadata": {},
     "output_type": "display_data"
    }
   ],
   "source": [
    "# Group by device and by churn and pivot the table\n",
    "churn_by_dev = sparkify_events.groupby('device', 'churn').agg(countDistinct('userId')).toPandas()\\\n",
    "               .rename(columns = {'count(userId)':'n_users'}).pivot(index = 'device', \\\n",
    "               columns = 'churn', values = 'n_users').rename(columns = {0:'Not Churned', 1:'Churned'})\n",
    "\n",
    "# Fill NaN values\n",
    "churn_by_dev.fillna(0, inplace = True)\n",
    "\n",
    "# Calculate rates\n",
    "churn_by_dev['All']= churn_by_dev['Not Churned'] + churn_by_dev['Churned']\n",
    "churn_by_dev['Churned rate'] = churn_by_dev['Churned'] / churn_by_dev['All']\n",
    "churn_by_dev['Not Churned rate'] = 1 - churn_by_dev['Churned rate']\n",
    "\n",
    "# Plot\n",
    "fig = plt.figure(figsize = (14, 12))\n",
    "ax1 = fig.add_subplot(2,1,1)\n",
    "churn_by_dev[['Churned rate','Not Churned rate']].plot(kind = 'bar', ax = ax1, stacked = True)\n",
    "plt.title('Churn Users rate by Device used', fontsize=16)\n",
    "plt.ylabel(\"Total\", fontsize=12, fontweight='bold')\n",
    "plt.xlabel(\"Device\", fontsize=12, fontweight='bold')\n",
    "plt.legend(loc = 'best')\n",
    "plt.grid(axis='x')"
   ]
  },
  {
   "cell_type": "code",
   "execution_count": null,
   "metadata": {},
   "outputs": [],
   "source": []
  },
  {
   "cell_type": "markdown",
   "metadata": {},
   "source": [
    "# Feature Engineering\n",
    "Once you've familiarized yourself with the data, build out the features you find promising to train your model on. To work with the full dataset, you can follow the following steps.\n",
    "- Write a script to extract the necessary features from the smaller subset of data\n",
    "- Ensure that your script is scalable, using the best practices discussed in Lesson 3\n",
    "- Try your script on the full data set, debugging your script if necessary\n",
    "\n",
    "If you are working in the classroom workspace, you can just extract features based on the small subset of data contained here. Be sure to transfer over this work to the larger dataset when you work on your Spark cluster."
   ]
  },
  {
   "cell_type": "markdown",
   "metadata": {},
   "source": [
    "#### Features to be used\n",
    "\n",
    "1. Listened songs \n",
    "2. Average played songs per session\n",
    "3. Songs added to playlist\n",
    "4. Total different artists listened\n",
    "5. Average played time per session\n",
    "5. Sessions of the user\n",
    "7. Time passed since registration\n",
    "8. Friends number\n",
    "9. Thumbs up\n",
    "10. Thumbs down\n",
    "11. Help requests\n",
    "12. Errors\n",
    "13. Downgrade\n",
    "14. Gender\n",
    "15. Free or paid user\n",
    "16. Churn"
   ]
  },
  {
   "cell_type": "markdown",
   "metadata": {},
   "source": [
    "First we will extract the data separately to see that everything works fine"
   ]
  },
  {
   "cell_type": "code",
   "execution_count": 35,
   "metadata": {},
   "outputs": [
    {
     "name": "stdout",
     "output_type": "stream",
     "text": [
      "The number of rows in '1. Listened songs' is 225\n",
      "The number of columns in '1. Listened songs' is 2\n",
      "The number of rows in '2. Average played songs per session' is 225\n",
      "The number of columns in '2. Average played songs per session' is 2\n",
      "The number of rows in '3. Songs added to playlist' is 215\n",
      "The number of columns in '3. Songs added to playlist' is 2\n",
      "The number of rows in '4. Total different artists listened' is 225\n",
      "The number of columns in '4. Total different artists listened' is 2\n",
      "The number of rows in '5. Average played time per session' is 225\n",
      "The number of columns in '5. Average played time per session' is 2\n",
      "The number of rows in '6. Sessions of the user' is 225\n",
      "The number of columns in '6. Sessions of the user' is 2\n",
      "The number of rows in '7. Time passed since registration' is 225\n",
      "The number of columns in '7. Time passed since registration' is 2\n",
      "The number of rows in '8. Friends number' is 206\n",
      "The number of columns in '8. Friends number' is 2\n",
      "The number of rows in '9. Thumbs up' is 220\n",
      "The number of columns in '9. Thumbs up' is 2\n",
      "The number of rows in '10. Thumbs down' is 203\n",
      "The number of columns in '10. Thumbs down' is 2\n",
      "The number of rows in '11. Help requests' is 192\n",
      "The number of columns in '11. Help requests' is 2\n",
      "The number of rows in '12. Errors' is 117\n",
      "The number of columns in '12. Errors' is 2\n",
      "The number of rows in '13. Downgrade' is 225\n",
      "The number of columns in '13. Downgrade' is 2\n",
      "The number of rows in '14. Gender' is 225\n",
      "The number of columns in '14. Gender' is 2\n",
      "The number of rows in '15. Free or paid user' is 225\n",
      "The number of columns in '15. Free or paid user' is 2\n",
      "The number of rows in '16. Churn' is 225\n",
      "The number of columns in '16. Churn' is 2\n"
     ]
    }
   ],
   "source": [
    "# 1. Listened songs\n",
    "FE_listened_songs = sparkify_events.select('userID', 'page').where(sparkify_events.page == 'NextSong').groupBy('userID').\\\n",
    "                 count().withColumnRenamed('count', 'songs')\n",
    "\n",
    "print(\"The number of rows in '1. Listened songs' is\", FE_listened_songs.count())\n",
    "print(\"The number of columns in '1. Listened songs' is\", len(FE_listened_songs.columns))\n",
    "\n",
    "\n",
    "\n",
    "# 2. Average played songs per session\n",
    "FE_avg_songs_session = sparkify_events.where(sparkify_events.song.isNotNull()).groupby(['userId', 'sessionId']).count().\\\n",
    "                       groupby(['userId']).agg({'count': 'avg'}).withColumnRenamed('avg(count)', 'avg_songs_session')\n",
    "\n",
    "print(\"The number of rows in '2. Average played songs per session' is\", FE_avg_songs_session.count())\n",
    "print(\"The number of columns in '2. Average played songs per session' is\", len(FE_avg_songs_session.columns))\n",
    "\n",
    "\n",
    "\n",
    "# 3. Songs added to playlist\n",
    "FE_add_playlist = sparkify_events.select('userId', 'page').where(sparkify_events.page == 'Add to Playlist').\\\n",
    "                  groupBy('userId').count().withColumnRenamed('count', 'add_playlist')\n",
    "\n",
    "print(\"The number of rows in '3. Songs added to playlist' is\", FE_add_playlist.count())\n",
    "print(\"The number of columns in '3. Songs added to playlist' is\", len(FE_add_playlist.columns))\n",
    "\n",
    "\n",
    "\n",
    "# 4. Total different artists listened\n",
    "FE_dif_artists = sparkify_events.select(\"userId\", \"artist\").dropDuplicates().groupby(\"userId\").count().\\\n",
    "                 withColumnRenamed('count', 'dif_artists')\n",
    "\n",
    "print(\"The number of rows in '4. Total different artists listened' is\", FE_dif_artists.count())\n",
    "print(\"The number of columns in '4. Total different artists listened' is\", len(FE_dif_artists.columns))\n",
    "\n",
    "\n",
    "\n",
    "# 5. Average played time per session\n",
    "played_max = sparkify_events.groupBy('userId', 'sessionId').max('ts').withColumnRenamed('max(ts)', 'max')\n",
    "played_min = sparkify_events.groupBy('userId', 'sessionId').min('ts').withColumnRenamed('min(ts)', 'min')\n",
    "played_session = played_min.join(played_max,['userId', 'sessionId'])\n",
    "played_session = played_session.select('userId', 'sessionId', ((played_session.max-played_session.min)/(1000*60)).\\\n",
    "                 alias('played_session'))\n",
    "# Average\n",
    "FE_played_time_session = played_session.groupBy('userId').agg(avg('played_session').alias('played_time_session'))     \n",
    "FE_played_time_session = FE_played_time_session.na.fill(0)\n",
    "\n",
    "print(\"The number of rows in '5. Average played time per session' is\", FE_played_time_session.count())\n",
    "print(\"The number of columns in '5. Average played time per session' is\", len(FE_played_time_session.columns))\n",
    "\n",
    "\n",
    "\n",
    "# 6. Sessions of the user\n",
    "FE_sessions_user = sparkify_events.select(\"userId\", \"sessionId\").dropDuplicates().groupby(\"userId\").count().\\\n",
    "                   withColumnRenamed('count', 'sessions_user')\n",
    "\n",
    "print(\"The number of rows in '6. Sessions of the user' is\", FE_sessions_user.count())\n",
    "print(\"The number of columns in '6. Sessions of the user' is\", len(FE_sessions_user.columns))\n",
    "\n",
    "\n",
    "\n",
    "# 7. Time passed since registration\n",
    "latest_time = sparkify_events.groupby(\"userId\").max(\"ts\").sort(\"userId\")\n",
    "sign_up_moment = sparkify_events.select(\"userId\", \"registration\").dropDuplicates().sort(\"userId\")\n",
    "FE_time_since_registration = sign_up_moment.join(latest_time, sign_up_moment.userId == latest_time.userId).\\\n",
    "                             select(sign_up_moment[\"userId\"], ((latest_time[\"max(ts)\"]-sign_up_moment[\"registration\"])/(1000*60)).\\\n",
    "                             alias(\"registration_min\"))\n",
    "\n",
    "print(\"The number of rows in '7. Time passed since registration' is\", FE_time_since_registration.count())\n",
    "print(\"The number of columns in '7. Time passed since registration' is\", len(FE_time_since_registration.columns))\n",
    "\n",
    "\n",
    "\n",
    "# 8. Friends number\n",
    "FE_friends = sparkify_events.select('userId', 'page').where(sparkify_events.page == 'Add Friend').groupBy('userId').\\\n",
    "            count().withColumnRenamed('count', 'friend').sort('userId')\n",
    "\n",
    "print(\"The number of rows in '8. Friends number' is\", FE_friends.count())\n",
    "print(\"The number of columns in '8. Friends number' is\", len(FE_friends.columns))\n",
    "\n",
    "\n",
    "\n",
    "# 9. Thumbs up\n",
    "FE_thumbs_up = sparkify_events.select('userId', 'page').where(sparkify_events.page == 'Thumbs Up').groupBy('userId').\\\n",
    "            count().withColumnRenamed('count', 'thumbs_up')\n",
    "\n",
    "print(\"The number of rows in '9. Thumbs up' is\", FE_thumbs_up.count())\n",
    "print(\"The number of columns in '9. Thumbs up' is\", len(FE_thumbs_up.columns))\n",
    "\n",
    "\n",
    "\n",
    "# 10. Thumbs down\n",
    "FE_thumbs_down = sparkify_events.select('userId', 'page').where(sparkify_events.page == 'Thumbs Down').groupBy('userId').\\\n",
    "            count().withColumnRenamed('count', 'thumbs_down')\n",
    "\n",
    "print(\"The number of rows in '10. Thumbs down' is\", FE_thumbs_down.count())\n",
    "print(\"The number of columns in '10. Thumbs down' is\", len(FE_thumbs_down.columns))\n",
    "\n",
    "\n",
    "\n",
    "# 11. Help requests\n",
    "FE_help = sparkify_events.select('userId', 'page').where(sparkify_events.page == 'Help').groupBy('userId').\\\n",
    "            count().withColumnRenamed('count', 'help')\n",
    "\n",
    "print(\"The number of rows in '11. Help requests' is\", FE_help.count())\n",
    "print(\"The number of columns in '11. Help requests' is\", len(FE_help.columns))\n",
    "\n",
    "\n",
    "\n",
    "# 12. Errors\n",
    "FE_errors = sparkify_events.select('userId', 'page').where(sparkify_events.page == 'Error').groupBy('userId').\\\n",
    "            count().withColumnRenamed('count', 'errors')\n",
    "\n",
    "print(\"The number of rows in '12. Errors' is\", FE_errors.count())\n",
    "print(\"The number of columns in '12. Errors' is\", len(FE_errors.columns))\n",
    "\n",
    "\n",
    "\n",
    "# 13. Downgrade\n",
    "FE_downgrade = sparkify_events[\"userId\", \"downgrade\"].dropDuplicates()\n",
    "\n",
    "print(\"The number of rows in '13. Downgrade' is\", FE_downgrade.count())\n",
    "print(\"The number of columns in '13. Downgrade' is\", len(FE_downgrade.columns))\n",
    "\n",
    "\n",
    "\n",
    "# 14. Gender\n",
    "FE_gender = sparkify_events.groupby('userId').agg(first(when(sparkify_events.gender == \"F\", 1).otherwise(0)).alias('gender'))\n",
    "\n",
    "print(\"The number of rows in '14. Gender' is\", FE_gender.count())\n",
    "print(\"The number of columns in '14. Gender' is\", len(FE_gender.columns))\n",
    "\n",
    "\n",
    "\n",
    "# 15. Free or paid user\n",
    "FE_level = sparkify_events.groupby('userId').agg(last(when(sparkify_events.level == 'paid', 1).otherwise(0)).\\\n",
    "           alias('level'))\n",
    "\n",
    "print(\"The number of rows in '15. Free or paid user' is\", FE_level.count())\n",
    "print(\"The number of columns in '15. Free or paid user' is\", len(FE_level.columns))\n",
    "\n",
    "\n",
    "\n",
    "# 16. Churn\n",
    "FE_churn = sparkify_events.select('userId', 'churn').dropDuplicates()\n",
    "\n",
    "print(\"The number of rows in '16. Churn' is\", FE_churn.count())\n",
    "print(\"The number of columns in '16. Churn' is\", len(FE_churn.columns))"
   ]
  },
  {
   "cell_type": "markdown",
   "metadata": {},
   "source": [
    "Let's create a function to put all together"
   ]
  },
  {
   "cell_type": "code",
   "execution_count": 36,
   "metadata": {},
   "outputs": [],
   "source": [
    "def features(df):\n",
    "    '''\n",
    "    INPUT:\n",
    "    df - dataframe with the data\n",
    "    OUTPUT:\n",
    "    FE_data - dataframe with the selected features\n",
    "    \n",
    "    Function that takes the selected features from the original dataset and put them in a new variable to be used\n",
    "    with the Machine Learning algorithms\n",
    "    '''\n",
    "    \n",
    "    print(\"Extraction of features started\")\n",
    "    start = datetime.datetime.now()\n",
    "    \n",
    "    # 1. Listened songs\n",
    "    print('1. Listened songs')\n",
    "    FE_listened_songs = df.select('userID', 'page').where(df.page == 'NextSong').groupBy('userID').\\\n",
    "                 count().withColumnRenamed('count', 'songs')\n",
    "\n",
    "    # 2. Average played songs per session\n",
    "    print(\"2. Average played songs per session\")\n",
    "    FE_avg_songs_session = df.where(df.song.isNotNull()).groupby(['userId', 'sessionId']).count().\\\n",
    "                           groupby(['userId']).agg({'count': 'avg'}).withColumnRenamed('avg(count)', 'avg_songs_session')\n",
    "\n",
    "    # 3. Songs added to playlist\n",
    "    print(\"3. Songs added to playlist\")\n",
    "    FE_add_playlist = df.select('userId', 'page').where(df.page == 'Add to Playlist').\\\n",
    "                      groupBy('userId').count().withColumnRenamed('count', 'add_playlist')\n",
    "\n",
    "    # 4. Total different artists listened\n",
    "    print(\"4. Total different artists listened\")\n",
    "    FE_dif_artists = df.select(\"userId\", \"artist\").dropDuplicates().groupby(\"userId\").count().\\\n",
    "                     withColumnRenamed('count', 'dif_artists')\n",
    "\n",
    "    # 5. Average played time per session\n",
    "    print(\"5. Average played time per session\")\n",
    "    played_max = df.groupBy('userId', 'sessionId').max('ts').withColumnRenamed('max(ts)', 'max')\n",
    "    played_min = df.groupBy('userId', 'sessionId').min('ts').withColumnRenamed('min(ts)', 'min')\n",
    "    played_session = played_min.join(played_max,['userId', 'sessionId'])\n",
    "    played_session = played_session.select('userId', 'sessionId', ((played_session.max-played_session.min)/(1000*60)).\\\n",
    "                     alias('played_session'))\n",
    "    # Average\n",
    "    FE_played_time_session = played_session.groupBy('userId').agg(avg('played_session').alias('played_time_session'))     \n",
    "    FE_played_time_session = FE_played_time_session.na.fill(0)\n",
    "\n",
    "    # 6. Sessions of the user\n",
    "    print(\"6. Sessions of the user\")\n",
    "    FE_sessions_user = df.select(\"userId\", \"sessionId\").dropDuplicates().groupby(\"userId\").count().\\\n",
    "                       withColumnRenamed('count', 'sessions_user')\n",
    "\n",
    "    # 7. Time passed since registration\n",
    "    print(\"7. Time passed since registration\")\n",
    "    latest_time = df.groupby(\"userId\").max(\"ts\").sort(\"userId\")\n",
    "    sign_up_moment = df.select(\"userId\", \"registration\").dropDuplicates().sort(\"userId\")\n",
    "    FE_time_since_registration = sign_up_moment.join(latest_time, sign_up_moment.userId == latest_time.userId).\\\n",
    "                                 select(sign_up_moment[\"userId\"], ((latest_time[\"max(ts)\"]-sign_up_moment[\"registration\"])/(1000*60)).\\\n",
    "                                 alias(\"registration_min\"))\n",
    "\n",
    "    # 8. Friends number\n",
    "    print(\"8. Friends number\")\n",
    "    FE_friends = df.select('userId', 'page').where(df.page == 'Add Friend').groupBy('userId').\\\n",
    "                count().withColumnRenamed('count', 'friend').sort('userId')\n",
    "\n",
    "    # 9. Thumbs up\n",
    "    print(\"9. Thumbs up\")\n",
    "    FE_thumbs_up = df.select('userId', 'page').where(df.page == 'Thumbs Up').groupBy('userId').\\\n",
    "                count().withColumnRenamed('count', 'thumbs_up')\n",
    "\n",
    "    # 10. Thumbs down\n",
    "    print(\"10. Thumbs down\")\n",
    "    FE_thumbs_down = df.select('userId', 'page').where(df.page == 'Thumbs Down').groupBy('userId').\\\n",
    "                count().withColumnRenamed('count', 'thumbs_down')\n",
    "\n",
    "    # 11. Help requests\n",
    "    print(\"11. Help requests\")\n",
    "    FE_help = df.select('userId', 'page').where(df.page == 'Help').groupBy('userId').\\\n",
    "                count().withColumnRenamed('count', 'help')\n",
    "\n",
    "    # 12. Errors\n",
    "    print(\"12. Errors\")\n",
    "    FE_errors = df.select('userId', 'page').where(df.page == 'Error').groupBy('userId').\\\n",
    "                count().withColumnRenamed('count', 'errors')\n",
    "\n",
    "    # 13. Downgrade\n",
    "    print(\"13. Downgrade\")\n",
    "    FE_downgrade = df[\"userId\", \"downgrade\"].dropDuplicates()\n",
    "\n",
    "    # 14. Gender\n",
    "    print(\"14. Gender\")\n",
    "    FE_gender = df.groupby('userId').agg(first(when(df.gender == \"F\", 1).otherwise(0)).alias('gender'))\n",
    "\n",
    "    # 15. Free or paid user\n",
    "    print(\"15. Free or paid user\")\n",
    "    FE_level = df.groupby('userId').agg(last(when(df.level == 'paid', 1).otherwise(0)).\\\n",
    "               alias('level'))\n",
    "\n",
    "    # 16. Churn\n",
    "    print(\"16. Churn\")\n",
    "    FE_churn = df.select('userId', 'churn').dropDuplicates()\n",
    "    \n",
    "    # Feature join in one dataframe\n",
    "    print(\"\\n\")\n",
    "    print(\"Joining of selected features in process...\")\n",
    "    FE_data = FE_listened_songs.join(FE_avg_songs_session,'userID','outer').\\\n",
    "                                join(FE_add_playlist,'userID','outer').\\\n",
    "                                join(FE_dif_artists,'userID','outer').\\\n",
    "                                join(FE_played_time_session,'userID','outer').\\\n",
    "                                join(FE_sessions_user,'userID','outer').\\\n",
    "                                join(FE_time_since_registration,'userID','outer').\\\n",
    "                                join(FE_friends,'userID','outer').\\\n",
    "                                join(FE_thumbs_up,'userID','outer').\\\n",
    "                                join(FE_thumbs_down,'userID','outer').\\\n",
    "                                join(FE_help,'userID','outer').\\\n",
    "                                join(FE_errors,'userID','outer').\\\n",
    "                                join(FE_downgrade,'userID','outer').\\\n",
    "                                join(FE_gender,'userID','outer').\\\n",
    "                                join(FE_level,'userID','outer').\\\n",
    "                                join(FE_churn,'userID','outer').\\\n",
    "                                drop('userID').\\\n",
    "                                fillna(0)\n",
    "\n",
    "    print (\"The resulting dataframe has\",FE_data.count(), \"rows and \",len(FE_data.dtypes),\"columns\")\n",
    "    print(\"Feature join finished\")\n",
    "    print(\"\\n\")\n",
    "    print (\"The process took\",datetime.datetime.now()-start,\"s\")\n",
    "    \n",
    "    return FE_data"
   ]
  },
  {
   "cell_type": "code",
   "execution_count": 37,
   "metadata": {},
   "outputs": [
    {
     "name": "stdout",
     "output_type": "stream",
     "text": [
      "Extraction of features started\n",
      "1. Listened songs\n",
      "2. Average played songs per session\n",
      "3. Songs added to playlist\n",
      "4. Total different artists listened\n",
      "5. Average played time per session\n",
      "6. Sessions of the user\n",
      "7. Time passed since registration\n",
      "8. Friends number\n",
      "9. Thumbs up\n",
      "10. Thumbs down\n",
      "11. Help requests\n",
      "12. Errors\n",
      "13. Downgrade\n",
      "14. Gender\n",
      "15. Free or paid user\n",
      "16. Churn\n",
      "\n",
      "\n",
      "Joining of selected features in process...\n",
      "The resulting dataframe has 225 rows and  16 columns\n",
      "Feature join finished\n",
      "\n",
      "\n",
      "The process took 0:00:25.893064 s\n"
     ]
    }
   ],
   "source": [
    "df_features = features(sparkify_events)"
   ]
  },
  {
   "cell_type": "markdown",
   "metadata": {},
   "source": [
    "# Modeling\n",
    "Split the full dataset into train, test, and validation sets. Test out several of the machine learning methods you learned. Evaluate the accuracy of the various models, tuning parameters as necessary. Determine your winning model based on test accuracy and report results on the validation set. Since the churned users are a fairly small subset, I suggest using F1 score as the metric to optimize."
   ]
  },
  {
   "cell_type": "code",
   "execution_count": 38,
   "metadata": {
    "scrolled": true
   },
   "outputs": [
    {
     "data": {
      "text/html": [
       "<div>\n",
       "<style scoped>\n",
       "    .dataframe tbody tr th:only-of-type {\n",
       "        vertical-align: middle;\n",
       "    }\n",
       "\n",
       "    .dataframe tbody tr th {\n",
       "        vertical-align: top;\n",
       "    }\n",
       "\n",
       "    .dataframe thead th {\n",
       "        text-align: right;\n",
       "    }\n",
       "</style>\n",
       "<table border=\"1\" class=\"dataframe\">\n",
       "  <thead>\n",
       "    <tr style=\"text-align: right;\">\n",
       "      <th></th>\n",
       "      <th>songs</th>\n",
       "      <th>avg_songs_session</th>\n",
       "      <th>add_playlist</th>\n",
       "      <th>dif_artists</th>\n",
       "      <th>played_time_session</th>\n",
       "      <th>sessions_user</th>\n",
       "      <th>registration_min</th>\n",
       "      <th>friend</th>\n",
       "      <th>thumbs_up</th>\n",
       "      <th>thumbs_down</th>\n",
       "      <th>help</th>\n",
       "      <th>errors</th>\n",
       "      <th>downgrade</th>\n",
       "      <th>gender</th>\n",
       "      <th>level</th>\n",
       "      <th>churn</th>\n",
       "    </tr>\n",
       "  </thead>\n",
       "  <tbody>\n",
       "    <tr>\n",
       "      <th>0</th>\n",
       "      <td>275</td>\n",
       "      <td>39.285714</td>\n",
       "      <td>7</td>\n",
       "      <td>253</td>\n",
       "      <td>154.483333</td>\n",
       "      <td>7</td>\n",
       "      <td>80126.866667</td>\n",
       "      <td>4</td>\n",
       "      <td>17</td>\n",
       "      <td>5</td>\n",
       "      <td>2</td>\n",
       "      <td>0</td>\n",
       "      <td>0</td>\n",
       "      <td>1</td>\n",
       "      <td>0</td>\n",
       "      <td>0</td>\n",
       "    </tr>\n",
       "    <tr>\n",
       "      <th>1</th>\n",
       "      <td>387</td>\n",
       "      <td>64.500000</td>\n",
       "      <td>8</td>\n",
       "      <td>340</td>\n",
       "      <td>266.400000</td>\n",
       "      <td>6</td>\n",
       "      <td>100907.466667</td>\n",
       "      <td>4</td>\n",
       "      <td>21</td>\n",
       "      <td>6</td>\n",
       "      <td>2</td>\n",
       "      <td>0</td>\n",
       "      <td>5</td>\n",
       "      <td>0</td>\n",
       "      <td>1</td>\n",
       "      <td>0</td>\n",
       "    </tr>\n",
       "    <tr>\n",
       "      <th>2</th>\n",
       "      <td>8</td>\n",
       "      <td>8.000000</td>\n",
       "      <td>0</td>\n",
       "      <td>9</td>\n",
       "      <td>29.566667</td>\n",
       "      <td>1</td>\n",
       "      <td>102696.316667</td>\n",
       "      <td>0</td>\n",
       "      <td>0</td>\n",
       "      <td>0</td>\n",
       "      <td>0</td>\n",
       "      <td>0</td>\n",
       "      <td>0</td>\n",
       "      <td>0</td>\n",
       "      <td>0</td>\n",
       "      <td>1</td>\n",
       "    </tr>\n",
       "    <tr>\n",
       "      <th>3</th>\n",
       "      <td>4079</td>\n",
       "      <td>145.678571</td>\n",
       "      <td>118</td>\n",
       "      <td>2233</td>\n",
       "      <td>578.994253</td>\n",
       "      <td>29</td>\n",
       "      <td>189440.516667</td>\n",
       "      <td>74</td>\n",
       "      <td>171</td>\n",
       "      <td>41</td>\n",
       "      <td>23</td>\n",
       "      <td>6</td>\n",
       "      <td>41</td>\n",
       "      <td>1</td>\n",
       "      <td>1</td>\n",
       "      <td>0</td>\n",
       "    </tr>\n",
       "    <tr>\n",
       "      <th>4</th>\n",
       "      <td>2111</td>\n",
       "      <td>211.100000</td>\n",
       "      <td>52</td>\n",
       "      <td>1386</td>\n",
       "      <td>872.356667</td>\n",
       "      <td>10</td>\n",
       "      <td>28016.416667</td>\n",
       "      <td>28</td>\n",
       "      <td>100</td>\n",
       "      <td>21</td>\n",
       "      <td>12</td>\n",
       "      <td>1</td>\n",
       "      <td>23</td>\n",
       "      <td>0</td>\n",
       "      <td>1</td>\n",
       "      <td>1</td>\n",
       "    </tr>\n",
       "    <tr>\n",
       "      <th>5</th>\n",
       "      <td>150</td>\n",
       "      <td>21.428571</td>\n",
       "      <td>5</td>\n",
       "      <td>143</td>\n",
       "      <td>87.640476</td>\n",
       "      <td>7</td>\n",
       "      <td>104800.583333</td>\n",
       "      <td>1</td>\n",
       "      <td>7</td>\n",
       "      <td>1</td>\n",
       "      <td>1</td>\n",
       "      <td>1</td>\n",
       "      <td>0</td>\n",
       "      <td>0</td>\n",
       "      <td>0</td>\n",
       "      <td>0</td>\n",
       "    </tr>\n",
       "    <tr>\n",
       "      <th>6</th>\n",
       "      <td>1914</td>\n",
       "      <td>136.714286</td>\n",
       "      <td>59</td>\n",
       "      <td>1303</td>\n",
       "      <td>528.283333</td>\n",
       "      <td>15</td>\n",
       "      <td>81379.550000</td>\n",
       "      <td>31</td>\n",
       "      <td>81</td>\n",
       "      <td>14</td>\n",
       "      <td>8</td>\n",
       "      <td>2</td>\n",
       "      <td>28</td>\n",
       "      <td>0</td>\n",
       "      <td>1</td>\n",
       "      <td>0</td>\n",
       "    </tr>\n",
       "    <tr>\n",
       "      <th>7</th>\n",
       "      <td>2841</td>\n",
       "      <td>81.171429</td>\n",
       "      <td>72</td>\n",
       "      <td>1745</td>\n",
       "      <td>322.289640</td>\n",
       "      <td>37</td>\n",
       "      <td>159482.433333</td>\n",
       "      <td>33</td>\n",
       "      <td>163</td>\n",
       "      <td>29</td>\n",
       "      <td>17</td>\n",
       "      <td>1</td>\n",
       "      <td>39</td>\n",
       "      <td>1</td>\n",
       "      <td>1</td>\n",
       "      <td>1</td>\n",
       "    </tr>\n",
       "    <tr>\n",
       "      <th>8</th>\n",
       "      <td>820</td>\n",
       "      <td>136.666667</td>\n",
       "      <td>24</td>\n",
       "      <td>644</td>\n",
       "      <td>548.572222</td>\n",
       "      <td>6</td>\n",
       "      <td>33920.666667</td>\n",
       "      <td>11</td>\n",
       "      <td>58</td>\n",
       "      <td>3</td>\n",
       "      <td>9</td>\n",
       "      <td>3</td>\n",
       "      <td>12</td>\n",
       "      <td>1</td>\n",
       "      <td>1</td>\n",
       "      <td>0</td>\n",
       "    </tr>\n",
       "    <tr>\n",
       "      <th>9</th>\n",
       "      <td>257</td>\n",
       "      <td>42.833333</td>\n",
       "      <td>7</td>\n",
       "      <td>234</td>\n",
       "      <td>184.813889</td>\n",
       "      <td>6</td>\n",
       "      <td>122520.100000</td>\n",
       "      <td>6</td>\n",
       "      <td>17</td>\n",
       "      <td>3</td>\n",
       "      <td>2</td>\n",
       "      <td>0</td>\n",
       "      <td>3</td>\n",
       "      <td>0</td>\n",
       "      <td>1</td>\n",
       "      <td>1</td>\n",
       "    </tr>\n",
       "  </tbody>\n",
       "</table>\n",
       "</div>"
      ],
      "text/plain": [
       "   songs  avg_songs_session  add_playlist  dif_artists  played_time_session  \\\n",
       "0    275          39.285714             7          253           154.483333   \n",
       "1    387          64.500000             8          340           266.400000   \n",
       "2      8           8.000000             0            9            29.566667   \n",
       "3   4079         145.678571           118         2233           578.994253   \n",
       "4   2111         211.100000            52         1386           872.356667   \n",
       "5    150          21.428571             5          143            87.640476   \n",
       "6   1914         136.714286            59         1303           528.283333   \n",
       "7   2841          81.171429            72         1745           322.289640   \n",
       "8    820         136.666667            24          644           548.572222   \n",
       "9    257          42.833333             7          234           184.813889   \n",
       "\n",
       "   sessions_user  registration_min  friend  thumbs_up  thumbs_down  help  \\\n",
       "0              7      80126.866667       4         17            5     2   \n",
       "1              6     100907.466667       4         21            6     2   \n",
       "2              1     102696.316667       0          0            0     0   \n",
       "3             29     189440.516667      74        171           41    23   \n",
       "4             10      28016.416667      28        100           21    12   \n",
       "5              7     104800.583333       1          7            1     1   \n",
       "6             15      81379.550000      31         81           14     8   \n",
       "7             37     159482.433333      33        163           29    17   \n",
       "8              6      33920.666667      11         58            3     9   \n",
       "9              6     122520.100000       6         17            3     2   \n",
       "\n",
       "   errors  downgrade  gender  level  churn  \n",
       "0       0          0       1      0      0  \n",
       "1       0          5       0      1      0  \n",
       "2       0          0       0      0      1  \n",
       "3       6         41       1      1      0  \n",
       "4       1         23       0      1      1  \n",
       "5       1          0       0      0      0  \n",
       "6       2         28       0      1      0  \n",
       "7       1         39       1      1      1  \n",
       "8       3         12       1      1      0  \n",
       "9       0          3       0      1      1  "
      ]
     },
     "execution_count": 38,
     "metadata": {},
     "output_type": "execute_result"
    }
   ],
   "source": [
    "# Show the first 10 rows of the data\n",
    "ten_rows_print = df_features.limit(10).toPandas()\n",
    "ten_rows_print"
   ]
  },
  {
   "cell_type": "code",
   "execution_count": 39,
   "metadata": {},
   "outputs": [],
   "source": [
    "def churn_and_Schema(df):\n",
    "    '''\n",
    "    INPUT:\n",
    "    df - dataframe with the data\n",
    "    OUTPUT:\n",
    "    \n",
    "    Function that shows the churn count in the dataset and the Schema\n",
    "    '''\n",
    "    \n",
    "    # Print Churn count\n",
    "    df.groupby(\"churn\").count().show()\n",
    "\n",
    "    #Print type of features\n",
    "    df.printSchema()"
   ]
  },
  {
   "cell_type": "code",
   "execution_count": 40,
   "metadata": {},
   "outputs": [],
   "source": [
    "# Data conversion to integer and float\n",
    "def convert_int_float(df, int_features, float_features):\n",
    "    '''\n",
    "    INPUT:\n",
    "    df - dataframe with the data\n",
    "    int_features - list with the variables to be converted to integer\n",
    "    float_features - list with the variables to be converted to float\n",
    "    OUTPUT:\n",
    "    df_features_i_f - dataframe with the converted features\n",
    "    \n",
    "    Function that convert each column to the desired integer or float format\n",
    "    '''\n",
    "\n",
    "    df_features_i_f = df\n",
    "\n",
    "    # Integer\n",
    "    for col in int_features:\n",
    "        df_features_i_f = df_features_i_f.withColumn(col, df_features_i_f[col].cast(IntegerType()))\n",
    "\n",
    "    # Float\n",
    "    for col in float_features:\n",
    "        df_features_i_f = df_features_i_f.withColumn(col, df_features_i_f[col].cast(FloatType()))\n",
    "        \n",
    "    return df_features_i_f"
   ]
  },
  {
   "cell_type": "code",
   "execution_count": 182,
   "metadata": {},
   "outputs": [],
   "source": [
    "def feature_scale(df):\n",
    "    '''\n",
    "    INPUT:\n",
    "    df - dataframe with the data\n",
    "    OUTPUT:\n",
    "    df_features_scaled - dataframe with the selected features scaled\n",
    "    \n",
    "    Function that scales the features to be used in the Machine Learning algorithm\n",
    "    '''\n",
    "    \n",
    "    start = datetime.datetime.now()\n",
    "        \n",
    "    features_mod = [\"songs\", \"avg_songs_session\",  \"add_playlist\", \"dif_artists\", \"played_time_session\",\\\n",
    "                    \"sessions_user\", \"registration_min\", \"friend\", \"thumbs_up\", \"thumbs_down\", \"help\",\\\n",
    "                    \"errors\", \"downgrade\", \"gender\", \"level\"]\n",
    "\n",
    "    print(\"Executing VectorAssembler...\")\n",
    "    vec_assembler = VectorAssembler(inputCols=features_mod, outputCol=\"Features\")\n",
    "    df_features_i_f_assembled = vec_assembler.transform(df)\n",
    "\n",
    "    print(\"Executing StandardScaler...\")\n",
    "    scaled = StandardScaler(inputCol='Features', outputCol='scaled_features', withMean=True, withStd=True)\n",
    "\n",
    "    print(\"Fit...\")\n",
    "    scaled_fit = scaled.fit(df_features_i_f_assembled)\n",
    "    print(\"Transform...\")\n",
    "    df_features_i_f_scaled = scaled_fit.transform(df_features_i_f_assembled)\n",
    "\n",
    "    print(\"Joining features...\")\n",
    "    df_features_scaled = df_features_i_f_scaled.select(df_features_i_f_assembled.churn.alias('label'),\\\n",
    "                         df_features_i_f_scaled.scaled_features.alias('features'))\n",
    "    \n",
    "    print(\"Feature scale finished\")\n",
    "    print(\"\\n\")\n",
    "    print (\"The process took\",datetime.datetime.now()-start,\"seconds\")\n",
    "    \n",
    "    return df_features_scaled"
   ]
  },
  {
   "cell_type": "code",
   "execution_count": 42,
   "metadata": {},
   "outputs": [
    {
     "name": "stdout",
     "output_type": "stream",
     "text": [
      "The current full dataset have 225 rows\n",
      "The current full dataset have 16 colums\n",
      "\n",
      "\n",
      "Select in the next cell how many rows should be kept to train the Machine Learning model\n"
     ]
    }
   ],
   "source": [
    "print(\"The current full dataset have\", df_features.count(), \"rows\")\n",
    "print(\"The current full dataset have\", len(df_features.columns), \"colums\")\n",
    "print(\"\\n\")\n",
    "print(\"Select in the next cell how many rows should be kept to train the Machine Learning model\")"
   ]
  },
  {
   "cell_type": "code",
   "execution_count": 43,
   "metadata": {},
   "outputs": [
    {
     "name": "stdout",
     "output_type": "stream",
     "text": [
      "The dataset will be limited to 20 rows\n"
     ]
    }
   ],
   "source": [
    "# Define the number of rows that will be selected to use in the Machine Learning model (usefull to test that the\n",
    "# model works fine with less execution time)\n",
    "n_rows = 20\n",
    "print(\"The dataset will be limited to\", n_rows, \"rows\")"
   ]
  },
  {
   "cell_type": "code",
   "execution_count": 44,
   "metadata": {},
   "outputs": [],
   "source": [
    "# Limit the number of rows to be used in the Machine Learning model\n",
    "df_features_rows = df_features.limit(n_rows)"
   ]
  },
  {
   "cell_type": "code",
   "execution_count": 45,
   "metadata": {},
   "outputs": [
    {
     "name": "stdout",
     "output_type": "stream",
     "text": [
      "+-----+-----+\n",
      "|churn|count|\n",
      "+-----+-----+\n",
      "|    0|   13|\n",
      "|    1|    7|\n",
      "+-----+-----+\n",
      "\n",
      "root\n",
      " |-- songs: long (nullable = true)\n",
      " |-- avg_songs_session: double (nullable = false)\n",
      " |-- add_playlist: long (nullable = true)\n",
      " |-- dif_artists: long (nullable = true)\n",
      " |-- played_time_session: double (nullable = false)\n",
      " |-- sessions_user: long (nullable = true)\n",
      " |-- registration_min: double (nullable = false)\n",
      " |-- friend: long (nullable = true)\n",
      " |-- thumbs_up: long (nullable = true)\n",
      " |-- thumbs_down: long (nullable = true)\n",
      " |-- help: long (nullable = true)\n",
      " |-- errors: long (nullable = true)\n",
      " |-- downgrade: long (nullable = true)\n",
      " |-- gender: integer (nullable = true)\n",
      " |-- level: integer (nullable = true)\n",
      " |-- churn: long (nullable = true)\n",
      "\n"
     ]
    }
   ],
   "source": [
    "# Look at the current data that we have selected\n",
    "churn_and_Schema(df_features_rows)"
   ]
  },
  {
   "cell_type": "code",
   "execution_count": 46,
   "metadata": {},
   "outputs": [
    {
     "name": "stdout",
     "output_type": "stream",
     "text": [
      "root\n",
      " |-- songs: integer (nullable = true)\n",
      " |-- avg_songs_session: float (nullable = false)\n",
      " |-- add_playlist: integer (nullable = true)\n",
      " |-- dif_artists: integer (nullable = true)\n",
      " |-- played_time_session: float (nullable = false)\n",
      " |-- sessions_user: integer (nullable = true)\n",
      " |-- registration_min: float (nullable = false)\n",
      " |-- friend: integer (nullable = true)\n",
      " |-- thumbs_up: integer (nullable = true)\n",
      " |-- thumbs_down: integer (nullable = true)\n",
      " |-- help: integer (nullable = true)\n",
      " |-- errors: integer (nullable = true)\n",
      " |-- downgrade: integer (nullable = true)\n",
      " |-- gender: integer (nullable = true)\n",
      " |-- level: integer (nullable = true)\n",
      " |-- churn: integer (nullable = true)\n",
      "\n"
     ]
    }
   ],
   "source": [
    "# Specify the colums to be converted\n",
    "FE_int = [\"songs\", \"add_playlist\", \"dif_artists\", \"sessions_user\", \"friend\", \"thumbs_up\", \"thumbs_down\", \"help\",\\\n",
    "          \"errors\", \"downgrade\", \"gender\", \"level\", \"churn\"]\n",
    "FE_float = [\"avg_songs_session\",\"played_time_session\",\"registration_min\"]\n",
    "\n",
    "\n",
    "df_features_i_f = convert_int_float(df_features_rows, FE_int, FE_float)\n",
    "df_features_i_f.printSchema()"
   ]
  },
  {
   "cell_type": "code",
   "execution_count": 47,
   "metadata": {},
   "outputs": [
    {
     "name": "stdout",
     "output_type": "stream",
     "text": [
      "Executing VectorAssembler...\n",
      "Executing StandardScaler...\n",
      "Fit...\n",
      "Transform...\n",
      "Joining features...\n",
      "Feature scale finished\n",
      "\n",
      "\n",
      "The process took 0:00:32.035894 s\n"
     ]
    }
   ],
   "source": [
    "df_features_scaled = feature_scale(df_features_i_f)"
   ]
  },
  {
   "cell_type": "code",
   "execution_count": 48,
   "metadata": {},
   "outputs": [
    {
     "name": "stdout",
     "output_type": "stream",
     "text": [
      "+-----+--------------------+\n",
      "|label|            features|\n",
      "+-----+--------------------+\n",
      "|    0|[-0.8634044854554...|\n",
      "|    0|[-0.7758840742227...|\n",
      "|    1|[-1.0720468943762...|\n",
      "|    0|[2.10916376748371...|\n",
      "|    1|[0.57130511296630...|\n",
      "|    0|[-0.9610835158490...|\n",
      "|    0|[0.41736296106593...|\n",
      "|    1|[1.14175065046513...|\n",
      "|    0|[-0.4375239129391...|\n",
      "|    1|[-0.8774702658321...|\n",
      "+-----+--------------------+\n",
      "only showing top 10 rows\n",
      "\n"
     ]
    }
   ],
   "source": [
    "df_features_scaled.show(10)"
   ]
  },
  {
   "cell_type": "code",
   "execution_count": 49,
   "metadata": {},
   "outputs": [
    {
     "name": "stdout",
     "output_type": "stream",
     "text": [
      "The number of rows in the dataframe is 20\n",
      "The number of columns in the dataframe is 2\n"
     ]
    }
   ],
   "source": [
    "print(\"The number of rows in the dataframe is\", df_features_scaled.count())\n",
    "print(\"The number of columns in the dataframe is\", len(df_features_scaled.columns))"
   ]
  },
  {
   "cell_type": "code",
   "execution_count": 50,
   "metadata": {},
   "outputs": [],
   "source": [
    "# Split data\n",
    "train, test = df_features_scaled.randomSplit([0.8, 0.2], seed=42)"
   ]
  },
  {
   "cell_type": "markdown",
   "metadata": {},
   "source": [
    "### Machine Learning"
   ]
  },
  {
   "cell_type": "code",
   "execution_count": 201,
   "metadata": {},
   "outputs": [],
   "source": [
    "def train_predict_ML_model(train, test, ML_model):\n",
    "    '''\n",
    "    INPUT:\n",
    "    train - train dataset\n",
    "    test - test dataset\n",
    "    OUTPUT:\n",
    "    accuracy - accuracy score\n",
    "    f1score - f1 score\n",
    "    elapsed_time - time spent in training the model\n",
    "    \n",
    "    Function that train a Random Forest model on the train and test datasets\n",
    "    '''\n",
    "    \n",
    "    ## Random Forest model\n",
    "    start = datetime.datetime.now()\n",
    "    \n",
    "    if ML_model == \"Random Forest\":\n",
    "    \n",
    "        print(\"Random Forest model Initialization\")\n",
    "        model = RandomForestClassifier(labelCol = \"label\", featuresCol = \"features\")\n",
    "        print(\"GridBuilder\")\n",
    "        paramGrid = ParamGridBuilder().addGrid(model.maxDepth,[10, 20]).\\\n",
    "                                       addGrid(model.numTrees ,[10, 20]).\\\n",
    "                                       addGrid(model.impurity,['entropy', 'gini']).\\\n",
    "                                       build()\n",
    "        \n",
    "    elif ML_model == \"Logistic Regression\":\n",
    "        print(\"Logistic Regression model Initialization\")\n",
    "        model = LogisticRegression(labelCol = \"label\", featuresCol = \"features\", maxIter = 10)\n",
    "        print(\"GridBuilder\")\n",
    "        paramGrid = ParamGridBuilder().addGrid(model.elasticNetParam,[0.0, 0.2, 0.6, 1.0]).\\\n",
    "                                       addGrid(model.regParam,[0.02, 0.06, 0.1]).\\\n",
    "                                       build()\n",
    "        \n",
    "    elif ML_model == \"Decision Tree\":\n",
    "        print(\"Decision Tree model Initialization\")\n",
    "        model = DecisionTreeClassifier(labelCol = \"label\", featuresCol = \"features\", seed = 42)\n",
    "        print(\"GridBuilder\")\n",
    "        paramGrid = ParamGridBuilder().addGrid(model.impurity,['entropy', 'gini']).\\\n",
    "                                       addGrid(model.maxDepth,[2, 3, 5, 8, 13, 21, 30]).\\\n",
    "                                       build()\n",
    "\n",
    "    elif ML_model == \"Gradient Boosted Trees\":\n",
    "        print(\"Gradient Boosted Trees model Initialization\")\n",
    "        model = GBTClassifier(labelCol = \"label\", featuresCol = \"features\", maxIter = 10, seed = 42)\n",
    "        print(\"GridBuilder\")\n",
    "        paramGrid = ParamGridBuilder().addGrid(model.maxDepth,[3, 5, 7]).\\\n",
    "                                       addGrid(model.maxIter ,[6, 12]).\\\n",
    "                                       build()\n",
    "        \n",
    "    elif ML_model == \"LinearSVC\":\n",
    "        print(\"LinearSVC model Initialization\")\n",
    "        model = LinearSVC(labelCol = \"label\", featuresCol = \"features\")\n",
    "        print(\"GridBuilder\")\n",
    "        paramGrid = ParamGridBuilder().addGrid(model.maxIter ,[6, 12]).\\\n",
    "                                       addGrid(model.regParam ,[0.02, 0.06, 0.1]).\\\n",
    "                                       build()\n",
    "\n",
    "    else:\n",
    "        BOLD = '\\033[1m'\n",
    "        print(BOLD + \"The specified model is not yet implemented. Select another model from the list\" + BOLD)\n",
    "        return\n",
    "    \n",
    "    \n",
    "    print(\"F1 score evaluation\")\n",
    "    f1_eval = MulticlassClassificationEvaluator(metricName = 'f1')\n",
    "    \n",
    "    print(\"Cross Validation\")\n",
    "    crossval = CrossValidator(estimator = model, estimatorParamMaps = paramGrid, evaluator = f1_eval, numFolds = 3)\n",
    "    \n",
    "    print(\"Fit Model\")\n",
    "    model_fit = crossval.fit(train)\n",
    "    \n",
    "    print(\"Transform\")\n",
    "    results = model_fit.transform(test)\n",
    "    \n",
    "    print(\"Evaluation of the model\")\n",
    "    evaluator = MulticlassClassificationEvaluator(predictionCol = \"prediction\")\n",
    "    \n",
    "    # Results\n",
    "    accuracy = evaluator.evaluate(results, {evaluator.metricName: \"accuracy\"})\n",
    "    f1score = evaluator.evaluate(results, {evaluator.metricName: \"f1\"})\n",
    "    end = datetime.datetime.now()\n",
    "    elapsed_time = (end - start).total_seconds()\n",
    "    \n",
    "    print(\"Model training finished\")\n",
    "    print (\"The process took\",end - start,\"minutes\")\n",
    "    print(\"\\n\")\n",
    "   \n",
    "    return ML_model, accuracy, f1score, elapsed_time, model_fit;"
   ]
  },
  {
   "cell_type": "code",
   "execution_count": 203,
   "metadata": {},
   "outputs": [],
   "source": [
    "def train_model_execution(train, test):\n",
    "    '''\n",
    "    INPUT:\n",
    "    train - train dataset\n",
    "    test - test dataset\n",
    "    OUTPUT:\n",
    "    model_name - model name used\n",
    "    accuracy - accuracy score\n",
    "    f1score - f1 score\n",
    "    elapsed_time - time spent in training the model\n",
    "    \n",
    "    Function that train 5 machine learning models on the train and test datasets\n",
    "    '''\n",
    "    \n",
    "    # Define variables used to save the results obtained\n",
    "    model_name = []\n",
    "    accuracy = []\n",
    "    f1score = []\n",
    "    elapsed_time = []\n",
    "    model_fit = []\n",
    "    \n",
    "    model_nam, acc, f1s, elapsed_t, model_f = train_predict_ML_model(train, test, \"Random Forest\")\n",
    "    model_name.append(model_nam)\n",
    "    accuracy.append(acc)\n",
    "    f1score.append(f1s)\n",
    "    elapsed_time.append(elapsed_t)\n",
    "    model_fit.append(model_f)\n",
    "    \n",
    "    model_nam, acc, f1s, elapsed_t, model_f = train_predict_ML_model(train, test, \"Logistic Regression\")\n",
    "    model_name.append(model_nam)\n",
    "    accuracy.append(acc)\n",
    "    f1score.append(f1s)\n",
    "    elapsed_time.append(elapsed_t)\n",
    "    model_fit.append(model_f)\n",
    "    \n",
    "    model_nam, acc, f1s, elapsed_t, model_f = train_predict_ML_model(train, test, \"Decision Tree\")\n",
    "    model_name.append(model_nam)\n",
    "    accuracy.append(acc)\n",
    "    f1score.append(f1s)\n",
    "    elapsed_time.append(elapsed_t)\n",
    "    model_fit.append(model_f)\n",
    "    \n",
    "    model_nam, acc, f1s, elapsed_t, model_f = train_predict_ML_model(train, test, \"Gradient Boosted Trees\")\n",
    "    model_name.append(model_nam)\n",
    "    accuracy.append(acc)\n",
    "    f1score.append(f1s)\n",
    "    elapsed_time.append(elapsed_t)\n",
    "    model_fit.append(model_f)\n",
    "    \n",
    "    model_nam, acc, f1s, elapsed_t, model_f = train_predict_ML_model(train, test, \"LinearSVC\")\n",
    "    model_name.append(model_nam)\n",
    "    accuracy.append(acc)\n",
    "    f1score.append(f1s)\n",
    "    elapsed_time.append(elapsed_t)\n",
    "    model_fit.append(model_f)\n",
    "    \n",
    "    return model_name, accuracy, f1score, elapsed_time, model_fit"
   ]
  },
  {
   "cell_type": "code",
   "execution_count": 204,
   "metadata": {},
   "outputs": [
    {
     "name": "stdout",
     "output_type": "stream",
     "text": [
      "Random Forest model Initialization\n",
      "GridBuilder\n",
      "F1 score evaluation\n",
      "Cross Validation\n",
      "Fit Model\n",
      "Transform\n",
      "Evaluation of the model\n",
      "Model training finished\n",
      "The process took 0:04:31.133619 minutes\n",
      "\n",
      "\n",
      "Logistic Regression model Initialization\n",
      "GridBuilder\n",
      "F1 score evaluation\n",
      "Cross Validation\n",
      "Fit Model\n",
      "Transform\n",
      "Evaluation of the model\n",
      "Model training finished\n",
      "The process took 0:04:13.887650 minutes\n",
      "\n",
      "\n",
      "Decision Tree model Initialization\n",
      "GridBuilder\n",
      "F1 score evaluation\n",
      "Cross Validation\n",
      "Fit Model\n",
      "Transform\n",
      "Evaluation of the model\n",
      "Model training finished\n",
      "The process took 0:04:21.499915 minutes\n",
      "\n",
      "\n",
      "Gradient Boosted Trees model Initialization\n",
      "GridBuilder\n",
      "F1 score evaluation\n",
      "Cross Validation\n",
      "Fit Model\n",
      "Transform\n",
      "Evaluation of the model\n",
      "Model training finished\n",
      "The process took 0:04:12.596744 minutes\n",
      "\n",
      "\n",
      "LinearSVC model Initialization\n",
      "GridBuilder\n",
      "F1 score evaluation\n",
      "Cross Validation\n",
      "Fit Model\n",
      "Transform\n",
      "Evaluation of the model\n",
      "Model training finished\n",
      "The process took 0:04:08.151246 minutes\n",
      "\n",
      "\n"
     ]
    }
   ],
   "source": [
    "# Execute the function that will train all the models\n",
    "model_name, accuracy, f1score, elapsed_time, model_fit = train_model_execution(train, test)"
   ]
  },
  {
   "cell_type": "markdown",
   "metadata": {},
   "source": [
    "### Results"
   ]
  },
  {
   "cell_type": "code",
   "execution_count": null,
   "metadata": {},
   "outputs": [],
   "source": [
    "model_name.append(\"Random Foreeest\")\n",
    "accuracy.append(0.2)\n",
    "f1score.append(0.2)\n",
    "elapsed_time.append(4)"
   ]
  },
  {
   "cell_type": "code",
   "execution_count": 205,
   "metadata": {},
   "outputs": [
    {
     "name": "stdout",
     "output_type": "stream",
     "text": [
      "['Random Forest', 'Logistic Regression', 'Decision Tree', 'Gradient Boosted Trees', 'LinearSVC']\n",
      "0.4\n",
      "[0.2, 0.34285714285714286, 0.7809523809523808, 0.6000000000000001, 0.6000000000000001]\n",
      "[271.133619, 253.88765, 261.499915, 252.596744, 248.151246]\n"
     ]
    }
   ],
   "source": [
    "print(model_name)\n",
    "print(accuracy[1])\n",
    "print(f1score)\n",
    "print(elapsed_time)"
   ]
  },
  {
   "cell_type": "code",
   "execution_count": 165,
   "metadata": {},
   "outputs": [],
   "source": [
    "def results(model_name, accuracy, f1score, elapsed_time):\n",
    "    '''\n",
    "    INPUT:\n",
    "    train - train dataset\n",
    "    test - test dataset\n",
    "    OUTPUT:\n",
    "    model_name - model name used\n",
    "    accuracy - accuracy score\n",
    "    f1score - f1 score\n",
    "    elapsed_time - time spent in training the model\n",
    "    \n",
    "    Function that plots the results obtained in the training of the Machine Learning models\n",
    "    '''\n",
    "    \n",
    "    # Dataframe with the results obtained for each model\n",
    "    results = pd.DataFrame(columns = ['Model name', 'Accuracy', 'f1score','Training time (min.)'])\n",
    "    results['Model name'] = model_name\n",
    "    results['Accuracy'] = accuracy\n",
    "    results['f1score'] = f1score\n",
    "    results['Training time (min.)'] = elapsed_time\n",
    "    \n",
    "    print(results.to_string(index=False))\n",
    "    \n",
    "    # Plot Accuracy\n",
    "    plt.figure(figsize = (12, 6))\n",
    "    sns.set(style = \"whitegrid\")\n",
    "    ax = sns.barplot(x = 'Model name', y = 'Accuracy', orient = \"v\", data = results)\n",
    "    ax.set_title(\"Accuracy of the models used\", fontsize = 16)\n",
    "    ax.set_xlabel(\"Model Name\", fontsize = 12, weight = 'bold')\n",
    "    ax.set_ylabel(\"Accuracy\", fontsize = 12, weight = 'bold')\n",
    "    ax.set_ylim(0, 1)\n",
    "    for m in ax.patches:\n",
    "        ax.annotate(format(m.get_height(), '.4f'), (m.get_x() + m.get_width() / 2.,\n",
    "                           m.get_height()), ha = 'center', va = 'center', xytext = (0, 12),\n",
    "                           textcoords = 'offset points')\n",
    "    \n",
    "    # Plot F1score\n",
    "    plt.figure(figsize = (12, 6))\n",
    "    sns.set(style = \"whitegrid\")\n",
    "    ax = sns.barplot(x = 'Model name', y = 'f1score', orient = \"v\", data = results)\n",
    "    ax.set_title(\"f1score of the models used\", fontsize = 16)\n",
    "    ax.set_xlabel(\"Model Name\", fontsize = 12, weight = 'bold')\n",
    "    ax.set_ylabel(\"f1score\", fontsize = 12, weight = 'bold')\n",
    "    ax.set_ylim(0, 1)\n",
    "    for m in ax.patches:\n",
    "        ax.annotate(format(m.get_height(), '.4f'), (m.get_x() + m.get_width() / 2.,\n",
    "                           m.get_height()), ha = 'center', va = 'center', xytext = (0, 12),\n",
    "                           textcoords = 'offset points')\n",
    "    \n",
    "    return;"
   ]
  },
  {
   "cell_type": "code",
   "execution_count": 206,
   "metadata": {},
   "outputs": [
    {
     "name": "stdout",
     "output_type": "stream",
     "text": [
      "             Model name  Accuracy   f1score  Training time (min.)\n",
      "          Random Forest       0.2  0.200000            271.133619\n",
      "    Logistic Regression       0.4  0.342857            253.887650\n",
      "          Decision Tree       0.8  0.780952            261.499915\n",
      " Gradient Boosted Trees       0.6  0.600000            252.596744\n",
      "              LinearSVC       0.6  0.600000            248.151246\n"
     ]
    },
    {
     "data": {
      "image/png": "[encoded data removed]",
      "text/plain": [
       "<Figure size 864x432 with 1 Axes>"
      ]
     },
     "metadata": {},
     "output_type": "display_data"
    },
    {
     "data": {
      "image/png": "[encoded data removed]",
      "text/plain": [
       "<Figure size 864x432 with 1 Axes>"
      ]
     },
     "metadata": {},
     "output_type": "display_data"
    }
   ],
   "source": [
    "results(model_name, accuracy, f1score, np.array(elapsed_time))"
   ]
  },
  {
   "cell_type": "code",
   "execution_count": 210,
   "metadata": {},
   "outputs": [
    {
     "data": {
      "text/plain": [
       "SparseVector(15, {1: 0.6154, 10: 0.3846})"
      ]
     },
     "execution_count": 210,
     "metadata": {},
     "output_type": "execute_result"
    }
   ],
   "source": [
    "x=model_fit[2].bestModel\n",
    "x.featureImportances"
   ]
  },
  {
   "cell_type": "code",
   "execution_count": 176,
   "metadata": {},
   "outputs": [
    {
     "data": {
      "image/png": "[encoded data removed]",
      "text/plain": [
       "<Figure size 1152x432 with 1 Axes>"
      ]
     },
     "metadata": {},
     "output_type": "display_data"
    }
   ],
   "source": [
    "model_be = model_fit.bestModel\n",
    "feature_importance = model_be.featureImportances\n",
    "features = [\"songs\", \"avg_songs_session\", \"add_playlist\", \"dif_artists\", \"played_time_session\", \"sessions_user\",\n",
    "            \"registration_min\", \"friend\", \"thumbs_up\", \"thumbs_down\", \"help\", \"errors\", \"downgrade\", \"gender\",\n",
    "            \"level\"]\n",
    "data_features = pd.DataFrame()\n",
    "data_features['features'] = features\n",
    "data_features['feature importance'] = feature_importance\n",
    "\n",
    "# Plot importance of features\n",
    "plt.figure(figsize = (16, 6))\n",
    "sns.set(style = \"whitegrid\")\n",
    "ax = sns.barplot(x = 'features', y = 'feature importance', orient = \"v\", data = data_features)\n",
    "ax.set_title(\"Feature Importance for the best classifier\", fontsize = 16)\n",
    "ax.set_xlabel(\"Feature\", fontsize = 12, weight = 'bold')\n",
    "ax.set_ylabel(\"Feature importance\", fontsize = 12, weight = 'bold')\n",
    "ax.set_xticklabels(labels = data_features['features'],rotation = 90)\n",
    "ax.set_ylim(0, 0.4)\n",
    "for m in ax.patches:\n",
    "        ax.annotate(format(m.get_height(), '.4f'), (m.get_x() + m.get_width() / 2., \n",
    "                           m.get_height()), ha = 'center', va = 'center', xytext = (0, 12), \n",
    "                           textcoords = 'offset points')"
   ]
  },
  {
   "cell_type": "code",
   "execution_count": null,
   "metadata": {},
   "outputs": [],
   "source": []
  },
  {
   "cell_type": "markdown",
   "metadata": {},
   "source": [
    "# Final Steps\n",
    "Clean up your code, adding comments and renaming variables to make the code easier to read and maintain. Refer to the Spark Project Overview page and Data Scientist Capstone Project Rubric to make sure you are including all components of the capstone project and meet all expectations. Remember, this includes thorough documentation in a README file in a Github repository, as well as a web app or blog post."
   ]
  },
  {
   "cell_type": "code",
   "execution_count": null,
   "metadata": {},
   "outputs": [],
   "source": []
  },
  {
   "cell_type": "code",
   "execution_count": 235,
   "metadata": {},
   "outputs": [],
   "source": [
    "# Function to split the date column\n",
    "def split_date(df, column):\n",
    "    '''\n",
    "    INPUT:\n",
    "    df - the dataframe that contains a column with date data to be split\n",
    "    column - the name of the column have the date to be split\n",
    "    OUTPUT:\n",
    "    df[column+year/month/day/dayofweek] - new columns will be added to the dataframe with the date split\n",
    "    \n",
    "    Takes the date from the column specified and split it into year, month, day and dayofweek \n",
    "    and then this data is added to the existing input dataframe\n",
    "    '''\n",
    "    df[column+'_hour'] = df[column].apply(lambda x: datetime.datetime.fromtimestamp(x / 1000.0).hour)\n",
    "    df[column+'_day'] = df[column].apply(lambda x: datetime.datetime.fromtimestamp(x / 1000.0).day)\n",
    "    df[column+'_dayofweek'] = df[column].apply(lambda x: datetime.datetime.fromtimestamp(x / 1000.0).strftime(\"%w\"))\n",
    "    \n",
    "    \n",
    "# date column split\n",
    "sparkify_date = sparkify_events.toPandas()\n",
    "split_date(sparkify_date, 'ts')"
   ]
  }
 ],
 "metadata": {
  "kernelspec": {
   "display_name": "Python 3",
   "language": "python",
   "name": "python3"
  },
  "language_info": {
   "codemirror_mode": {
    "name": "ipython",
    "version": 3
   },
   "file_extension": ".py",
   "mimetype": "text/x-python",
   "name": "python",
   "nbconvert_exporter": "python",
   "pygments_lexer": "ipython3",
   "version": "3.8.5"
  }
 },
 "nbformat": 4,
 "nbformat_minor": 2
}
