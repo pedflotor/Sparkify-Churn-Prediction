{
 "cells": [
  {
   "cell_type": "markdown",
   "metadata": {},
   "source": [
    "# Sparkify Project Workspace\n",
    "This workspace contains a tiny subset (128MB) of the full dataset available (12GB). Feel free to use this workspace to build your project, or to explore a smaller subset with Spark before deploying your cluster on the cloud. Instructions for setting up your Spark cluster is included in the last lesson of the Extracurricular Spark Course content.\n",
    "\n",
    "You can follow the steps below to guide your data analysis and model building portion of this project."
   ]
  },
  {
   "cell_type": "code",
   "execution_count": 8,
   "metadata": {},
   "outputs": [],
   "source": [
    "# import libraries\n",
    "import datetime\n",
    "import time\n",
    "import numpy as np\n",
    "import pandas as pd\n",
    "import matplotlib.pyplot as plt\n",
    "import seaborn as sns\n",
    "\n",
    "#! pip install pyspark\n",
    "import pyspark\n",
    "from pyspark import SparkContext, SparkConf\n",
    "from pyspark.sql import SparkSession\n",
    "from pyspark.sql import Window\n",
    "from pyspark.sql.functions import udf, col, concat, count, lit, avg, lag, first, last, when, desc, asc, countDistinct, when, isnan\n",
    "from pyspark.sql.functions import min as Fmin, max as Fmax, sum as Fsum, round as Fround\n",
    "\n",
    "from pyspark.sql.types import IntegerType, FloatType, DateType, TimestampType, StringType\n",
    "\n",
    "from pyspark.ml.feature import CountVectorizer, IDF, Normalizer, PCA, RegexTokenizer, StandardScaler, StopWordsRemover, StringIndexer, VectorAssembler\n",
    "\n",
    "from pyspark.ml.evaluation import MulticlassClassificationEvaluator, RegressionEvaluator\n",
    "from pyspark.ml.classification import GBTClassifier, RandomForestClassifier, LinearSVC, LogisticRegression\n",
    "from pyspark.ml.tuning import CrossValidator, ParamGridBuilder\n",
    "from pyspark.ml import Pipeline\n",
    "\n",
    "from pyspark.ml.regression import LinearRegression\n",
    "\n",
    "\n",
    "%matplotlib inline"
   ]
  },
  {
   "cell_type": "code",
   "execution_count": 27,
   "metadata": {},
   "outputs": [],
   "source": [
    "# create a Spark session\n",
    "spark = SparkSession \\\n",
    "        .builder \\\n",
    "        .appName(\"Sparkify\") \\\n",
    "        .getOrCreate()"
   ]
  },
  {
   "cell_type": "markdown",
   "metadata": {},
   "source": [
    "# Load and Clean Dataset\n",
    "In this workspace, the mini-dataset file is `mini_sparkify_event_data.json`. Load and clean the dataset, checking for invalid or missing data - for example, records without userids or sessionids. "
   ]
  },
  {
   "cell_type": "code",
   "execution_count": 30,
   "metadata": {},
   "outputs": [],
   "source": [
    "path = \"mini_sparkify_event_data.json\"\n",
    "sparkify_events = spark.read.json(path)"
   ]
  },
  {
   "cell_type": "markdown",
   "metadata": {},
   "source": [
    "# Exploratory Data Analysis\n",
    "When you're working with the full dataset, perform EDA by loading a small subset of the data and doing basic manipulations within Spark. In this workspace, you are already provided a small subset of data you can explore."
   ]
  },
  {
   "cell_type": "code",
   "execution_count": 31,
   "metadata": {},
   "outputs": [
    {
     "name": "stdout",
     "output_type": "stream",
     "text": [
      "root\n",
      " |-- artist: string (nullable = true)\n",
      " |-- auth: string (nullable = true)\n",
      " |-- firstName: string (nullable = true)\n",
      " |-- gender: string (nullable = true)\n",
      " |-- itemInSession: long (nullable = true)\n",
      " |-- lastName: string (nullable = true)\n",
      " |-- length: double (nullable = true)\n",
      " |-- level: string (nullable = true)\n",
      " |-- location: string (nullable = true)\n",
      " |-- method: string (nullable = true)\n",
      " |-- page: string (nullable = true)\n",
      " |-- registration: long (nullable = true)\n",
      " |-- sessionId: long (nullable = true)\n",
      " |-- song: string (nullable = true)\n",
      " |-- status: long (nullable = true)\n",
      " |-- ts: long (nullable = true)\n",
      " |-- userAgent: string (nullable = true)\n",
      " |-- userId: string (nullable = true)\n",
      "\n"
     ]
    }
   ],
   "source": [
    "sparkify_events.printSchema()"
   ]
  },
  {
   "cell_type": "code",
   "execution_count": 32,
   "metadata": {},
   "outputs": [
    {
     "name": "stdout",
     "output_type": "stream",
     "text": [
      "The number of rows is 286500\n",
      "The number of columns is 18\n"
     ]
    }
   ],
   "source": [
    "print(\"The number of rows is\", sparkify_events.count())\n",
    "print(\"The number of columns is\", len(sparkify_events.columns))"
   ]
  },
  {
   "cell_type": "code",
   "execution_count": 33,
   "metadata": {},
   "outputs": [
    {
     "name": "stdout",
     "output_type": "stream",
     "text": [
      "+----------+------+\n",
      "|      auth| count|\n",
      "+----------+------+\n",
      "|Logged Out|  8249|\n",
      "| Cancelled|    52|\n",
      "|     Guest|    97|\n",
      "| Logged In|278102|\n",
      "+----------+------+\n",
      "\n",
      "None\n",
      "+------+------+\n",
      "|gender| count|\n",
      "+------+------+\n",
      "|     F|154578|\n",
      "|  null|  8346|\n",
      "|     M|123576|\n",
      "+------+------+\n",
      "\n",
      "None\n",
      "+--------------------+-----+\n",
      "|            location|count|\n",
      "+--------------------+-----+\n",
      "|     Gainesville, FL| 1229|\n",
      "|Atlantic City-Ham...| 2176|\n",
      "|Deltona-Daytona B...|   73|\n",
      "|San Diego-Carlsba...|  754|\n",
      "|Cleveland-Elyria, OH| 1392|\n",
      "|Kingsport-Bristol...| 1863|\n",
      "|New Haven-Milford...| 4007|\n",
      "|Birmingham-Hoover...|   75|\n",
      "|  Corpus Christi, TX|   11|\n",
      "|         Dubuque, IA|  651|\n",
      "|Las Vegas-Henders...| 2042|\n",
      "|Indianapolis-Carm...|  970|\n",
      "|Seattle-Tacoma-Be...|  246|\n",
      "|          Albany, OR|   23|\n",
      "|   Winston-Salem, NC|  819|\n",
      "|     Bakersfield, CA| 1775|\n",
      "|Los Angeles-Long ...|30131|\n",
      "|Minneapolis-St. P...| 2134|\n",
      "|San Francisco-Oak...| 2647|\n",
      "|Phoenix-Mesa-Scot...| 4846|\n",
      "|Allentown-Bethleh...|  815|\n",
      "|Miami-Fort Lauder...| 3764|\n",
      "|           Selma, AL| 2027|\n",
      "|          Dayton, OH|  259|\n",
      "|San Jose-Sunnyval...| 1603|\n",
      "|Bridgeport-Stamfo...|  893|\n",
      "|           Price, UT| 1102|\n",
      "|Providence-Warwic...|  927|\n",
      "|     Columbus, GA-AL| 2716|\n",
      "|Greenville-Anders...|  668|\n",
      "+--------------------+-----+\n",
      "only showing top 30 rows\n",
      "\n",
      "None\n",
      "+-----+------+\n",
      "|level| count|\n",
      "+-----+------+\n",
      "| free| 58338|\n",
      "| paid|228162|\n",
      "+-----+------+\n",
      "\n",
      "None\n",
      "+------+------+\n",
      "|method| count|\n",
      "+------+------+\n",
      "|   PUT|261064|\n",
      "|   GET| 25436|\n",
      "+------+------+\n",
      "\n",
      "None\n",
      "+--------------------+------+\n",
      "|                page| count|\n",
      "+--------------------+------+\n",
      "|              Cancel|    52|\n",
      "|    Submit Downgrade|    63|\n",
      "|         Thumbs Down|  2546|\n",
      "|                Home| 14457|\n",
      "|           Downgrade|  2055|\n",
      "|         Roll Advert|  3933|\n",
      "|              Logout|  3226|\n",
      "|       Save Settings|   310|\n",
      "|Cancellation Conf...|    52|\n",
      "|               About|   924|\n",
      "| Submit Registration|     5|\n",
      "|            Settings|  1514|\n",
      "|               Login|  3241|\n",
      "|            Register|    18|\n",
      "|     Add to Playlist|  6526|\n",
      "|          Add Friend|  4277|\n",
      "|            NextSong|228108|\n",
      "|           Thumbs Up| 12551|\n",
      "|                Help|  1726|\n",
      "|             Upgrade|   499|\n",
      "|               Error|   258|\n",
      "|      Submit Upgrade|   159|\n",
      "+--------------------+------+\n",
      "\n",
      "None\n",
      "+------+------+\n",
      "|status| count|\n",
      "+------+------+\n",
      "|   307| 26430|\n",
      "|   404|   258|\n",
      "|   200|259812|\n",
      "+------+------+\n",
      "\n",
      "None\n",
      "+-------------+-----+\n",
      "| registration|count|\n",
      "+-------------+-----+\n",
      "|1529027541000| 9632|\n",
      "|1533192032000| 1654|\n",
      "|1537779419000|  512|\n",
      "|1534627466000|  187|\n",
      "|1535389443000|  310|\n",
      "|1536642109000| 6880|\n",
      "|1537167593000|  108|\n",
      "|1536854322000|  638|\n",
      "|1533908361000| 1399|\n",
      "|1536817381000|  918|\n",
      "|1536663902000| 2465|\n",
      "|1537672236000| 2130|\n",
      "|1536956945000|  478|\n",
      "|1537611935000| 4659|\n",
      "|1537751138000|  955|\n",
      "|1533532298000|  174|\n",
      "|1537057938000|  651|\n",
      "|1537964483000|   44|\n",
      "|1528772084000|  394|\n",
      "|1537440271000|  940|\n",
      "|1536303841000|  315|\n",
      "|1534768517000|  861|\n",
      "|1537484200000|  815|\n",
      "|1538050164000| 2064|\n",
      "|1532450666000|  209|\n",
      "|1536032681000|  292|\n",
      "|1534461078000|  446|\n",
      "|1538331630000| 3191|\n",
      "|1536102943000|  457|\n",
      "|1536831228000| 1547|\n",
      "+-------------+-----+\n",
      "only showing top 30 rows\n",
      "\n",
      "None\n"
     ]
    }
   ],
   "source": [
    "# Check the unique values of some categories to have an idea of the data\n",
    "for col in ['auth', 'gender', 'location', 'level', 'method', 'page', 'status', 'registration']:\n",
    "    print(sparkify_events.groupby(col).count().show(30))"
   ]
  },
  {
   "cell_type": "code",
   "execution_count": 34,
   "metadata": {},
   "outputs": [
    {
     "name": "stdout",
     "output_type": "stream",
     "text": [
      "-RECORD 0------------------------------------------------------------------------------------------------------------------------\n",
      " artist        | Martha Tilston                                                                                                  \n",
      " auth          | Logged In                                                                                                       \n",
      " firstName     | Colin                                                                                                           \n",
      " gender        | M                                                                                                               \n",
      " itemInSession | 50                                                                                                              \n",
      " lastName      | Freeman                                                                                                         \n",
      " length        | 277.89016                                                                                                       \n",
      " level         | paid                                                                                                            \n",
      " location      | Bakersfield, CA                                                                                                 \n",
      " method        | PUT                                                                                                             \n",
      " page          | NextSong                                                                                                        \n",
      " registration  | 1538173362000                                                                                                   \n",
      " sessionId     | 29                                                                                                              \n",
      " song          | Rockpools                                                                                                       \n",
      " status        | 200                                                                                                             \n",
      " ts            | 1538352117000                                                                                                   \n",
      " userAgent     | Mozilla/5.0 (Windows NT 6.1; WOW64; rv:31.0) Gecko/20100101 Firefox/31.0                                        \n",
      " userId        | 30                                                                                                              \n",
      "-RECORD 1------------------------------------------------------------------------------------------------------------------------\n",
      " artist        | Five Iron Frenzy                                                                                                \n",
      " auth          | Logged In                                                                                                       \n",
      " firstName     | Micah                                                                                                           \n",
      " gender        | M                                                                                                               \n",
      " itemInSession | 79                                                                                                              \n",
      " lastName      | Long                                                                                                            \n",
      " length        | 236.09424                                                                                                       \n",
      " level         | free                                                                                                            \n",
      " location      | Boston-Cambridge-Newton, MA-NH                                                                                  \n",
      " method        | PUT                                                                                                             \n",
      " page          | NextSong                                                                                                        \n",
      " registration  | 1538331630000                                                                                                   \n",
      " sessionId     | 8                                                                                                               \n",
      " song          | Canada                                                                                                          \n",
      " status        | 200                                                                                                             \n",
      " ts            | 1538352180000                                                                                                   \n",
      " userAgent     | \"Mozilla/5.0 (Windows NT 6.1; WOW64) AppleWebKit/537.36 (KHTML, like Gecko) Chrome/37.0.2062.103 Safari/537.36\" \n",
      " userId        | 9                                                                                                               \n",
      "only showing top 2 rows\n",
      "\n"
     ]
    }
   ],
   "source": [
    "# Print first 2 lines of 'sparkify_events'\n",
    "sparkify_events.show(n=2, truncate=False, vertical=True)"
   ]
  },
  {
   "cell_type": "markdown",
   "metadata": {},
   "source": [
    "### Clean Data"
   ]
  },
  {
   "cell_type": "markdown",
   "metadata": {},
   "source": [
    "#### Missing values"
   ]
  },
  {
   "cell_type": "code",
   "execution_count": 35,
   "metadata": {},
   "outputs": [
    {
     "name": "stdout",
     "output_type": "stream",
     "text": [
      "In column ( artist ) the number of missing values is 58392\n",
      "In column ( auth ) the number of missing values is 0\n",
      "In column ( firstName ) the number of missing values is 8346\n",
      "In column ( gender ) the number of missing values is 8346\n",
      "In column ( itemInSession ) the number of missing values is 0\n",
      "In column ( lastName ) the number of missing values is 8346\n",
      "In column ( length ) the number of missing values is 58392\n",
      "In column ( level ) the number of missing values is 0\n",
      "In column ( location ) the number of missing values is 8346\n",
      "In column ( method ) the number of missing values is 0\n",
      "In column ( page ) the number of missing values is 0\n",
      "In column ( registration ) the number of missing values is 8346\n",
      "In column ( sessionId ) the number of missing values is 0\n",
      "In column ( song ) the number of missing values is 58392\n",
      "In column ( status ) the number of missing values is 0\n",
      "In column ( ts ) the number of missing values is 0\n",
      "In column ( userAgent ) the number of missing values is 8346\n",
      "In column ( userId ) the number of missing values is 0\n"
     ]
    }
   ],
   "source": [
    "# Check columns with NaN values\n",
    "for value in sparkify_events.columns:\n",
    "    print (\"In column (\",value,\") the number of missing values is\", sparkify_events.where(sparkify_events[value].isNull()).count())"
   ]
  },
  {
   "cell_type": "markdown",
   "metadata": {},
   "source": [
    "#### Empty values"
   ]
  },
  {
   "cell_type": "code",
   "execution_count": 36,
   "metadata": {},
   "outputs": [
    {
     "name": "stdout",
     "output_type": "stream",
     "text": [
      "In column ( artist ) the number of empty values is 0\n",
      "In column ( auth ) the number of empty values is 0\n",
      "In column ( firstName ) the number of empty values is 0\n",
      "In column ( gender ) the number of empty values is 0\n",
      "In column ( itemInSession ) the number of empty values is 0\n",
      "In column ( lastName ) the number of empty values is 0\n",
      "In column ( length ) the number of empty values is 0\n",
      "In column ( level ) the number of empty values is 0\n",
      "In column ( location ) the number of empty values is 0\n",
      "In column ( method ) the number of empty values is 0\n",
      "In column ( page ) the number of empty values is 0\n",
      "In column ( registration ) the number of empty values is 0\n",
      "In column ( sessionId ) the number of empty values is 0\n",
      "In column ( song ) the number of empty values is 0\n",
      "In column ( status ) the number of empty values is 0\n",
      "In column ( ts ) the number of empty values is 0\n",
      "In column ( userAgent ) the number of empty values is 0\n",
      "In column ( userId ) the number of empty values is 8346\n"
     ]
    }
   ],
   "source": [
    "# Check columns with empty values\n",
    "for value in sparkify_events.columns:\n",
    "    print (\"In column (\",value,\") the number of empty values is\", sparkify_events.filter(sparkify_events[value] == '').count())"
   ]
  },
  {
   "cell_type": "code",
   "execution_count": null,
   "metadata": {},
   "outputs": [],
   "source": []
  },
  {
   "cell_type": "code",
   "execution_count": 37,
   "metadata": {},
   "outputs": [],
   "source": [
    "# Delete columns with empty userid\n",
    "sparkify_events = sparkify_events.filter(sparkify_events.userId != \"\")"
   ]
  },
  {
   "cell_type": "code",
   "execution_count": 38,
   "metadata": {},
   "outputs": [
    {
     "name": "stdout",
     "output_type": "stream",
     "text": [
      "In column ( artist ) the number of empty values is 0\n",
      "In column ( auth ) the number of empty values is 0\n",
      "In column ( firstName ) the number of empty values is 0\n",
      "In column ( gender ) the number of empty values is 0\n",
      "In column ( itemInSession ) the number of empty values is 0\n",
      "In column ( lastName ) the number of empty values is 0\n",
      "In column ( length ) the number of empty values is 0\n",
      "In column ( level ) the number of empty values is 0\n",
      "In column ( location ) the number of empty values is 0\n",
      "In column ( method ) the number of empty values is 0\n",
      "In column ( page ) the number of empty values is 0\n",
      "In column ( registration ) the number of empty values is 0\n",
      "In column ( sessionId ) the number of empty values is 0\n",
      "In column ( song ) the number of empty values is 0\n",
      "In column ( status ) the number of empty values is 0\n",
      "In column ( ts ) the number of empty values is 0\n",
      "In column ( userAgent ) the number of empty values is 0\n",
      "In column ( userId ) the number of empty values is 0\n"
     ]
    }
   ],
   "source": [
    "# Check columns with empty values\n",
    "for value in sparkify_events.columns:\n",
    "    print (\"In column (\",value,\") the number of empty values is\", sparkify_events.filter(sparkify_events[value] == '').count())"
   ]
  },
  {
   "cell_type": "markdown",
   "metadata": {},
   "source": [
    "We got rid of the userId rows that were empty. Now let's take a look at the NaN values"
   ]
  },
  {
   "cell_type": "code",
   "execution_count": 40,
   "metadata": {},
   "outputs": [
    {
     "name": "stdout",
     "output_type": "stream",
     "text": [
      "In column ( artist ) the number of missing values is 50046\n",
      "In column ( auth ) the number of missing values is 0\n",
      "In column ( firstName ) the number of missing values is 0\n",
      "In column ( gender ) the number of missing values is 0\n",
      "In column ( itemInSession ) the number of missing values is 0\n",
      "In column ( lastName ) the number of missing values is 0\n",
      "In column ( length ) the number of missing values is 50046\n",
      "In column ( level ) the number of missing values is 0\n",
      "In column ( location ) the number of missing values is 0\n",
      "In column ( method ) the number of missing values is 0\n",
      "In column ( page ) the number of missing values is 0\n",
      "In column ( registration ) the number of missing values is 0\n",
      "In column ( sessionId ) the number of missing values is 0\n",
      "In column ( song ) the number of missing values is 50046\n",
      "In column ( status ) the number of missing values is 0\n",
      "In column ( ts ) the number of missing values is 0\n",
      "In column ( userAgent ) the number of missing values is 0\n",
      "In column ( userId ) the number of missing values is 0\n"
     ]
    }
   ],
   "source": [
    "# Check columns with NaN values\n",
    "for value in sparkify_events.columns:\n",
    "    print (\"In column (\",value,\") the number of missing values is\", sparkify_events.where(sparkify_events[value].isNull()).count())"
   ]
  },
  {
   "cell_type": "code",
   "execution_count": null,
   "metadata": {},
   "outputs": [],
   "source": []
  },
  {
   "cell_type": "code",
   "execution_count": null,
   "metadata": {},
   "outputs": [],
   "source": []
  },
  {
   "cell_type": "code",
   "execution_count": null,
   "metadata": {},
   "outputs": [],
   "source": []
  },
  {
   "cell_type": "code",
   "execution_count": null,
   "metadata": {},
   "outputs": [],
   "source": []
  },
  {
   "cell_type": "markdown",
   "metadata": {},
   "source": [
    "### Define Churn\n",
    "\n",
    "Once you've done some preliminary analysis, create a column `Churn` to use as the label for your model. I suggest using the `Cancellation Confirmation` events to define your churn, which happen for both paid and free users. As a bonus task, you can also look into the `Downgrade` events."
   ]
  },
  {
   "cell_type": "markdown",
   "metadata": {},
   "source": [
    "#### Cancellation Confirmation"
   ]
  },
  {
   "cell_type": "code",
   "execution_count": 42,
   "metadata": {},
   "outputs": [],
   "source": [
    "# Flag definition for churn (Cancellation Confirmation)\n",
    "churn_flag = udf(lambda x: 1 if x == \"Cancellation Confirmation\" else 0, IntegerType())\n",
    "sparkify_events = sparkify_events.withColumn(\"churn\", churn_flag(\"page\"))\n",
    "\n",
    "# Apply churn flag to dataset\n",
    "window_val = Window.partitionBy(\"userId\")\n",
    "sparkify_events = sparkify_events.withColumn(\"churn\", Fsum(\"churn\").over(window_val))"
   ]
  },
  {
   "cell_type": "code",
   "execution_count": 46,
   "metadata": {},
   "outputs": [
    {
     "name": "stdout",
     "output_type": "stream",
     "text": [
      "+-----+-----+\n",
      "|churn|count|\n",
      "+-----+-----+\n",
      "|    0|  173|\n",
      "|    1|   52|\n",
      "+-----+-----+\n",
      "\n"
     ]
    }
   ],
   "source": [
    "# Churned users\n",
    "sparkify_events[\"userId\", \"churn\"].dropDuplicates().groupby(\"churn\").count().show()"
   ]
  },
  {
   "cell_type": "markdown",
   "metadata": {},
   "source": [
    "#### Downgrade Events"
   ]
  },
  {
   "cell_type": "code",
   "execution_count": 44,
   "metadata": {},
   "outputs": [],
   "source": [
    "# Flag definition for churn (Downgrade)\n",
    "churn_downgrade = udf(lambda x: 1 if x == \"Downgrade\" else 0, IntegerType())\n",
    "sparkify_events = sparkify_events.withColumn(\"downgrade\", churn_downgrade(\"page\"))\n",
    "\n",
    "# Apply churn flag to dataset\n",
    "windowval_val = Window.partitionBy(\"userId\")\n",
    "sparkify_events = sparkify_events.withColumn(\"downgrade\", Fsum(\"downgrade\").over(windowval_val))"
   ]
  },
  {
   "cell_type": "code",
   "execution_count": null,
   "metadata": {},
   "outputs": [],
   "source": [
    "# Downgraded users\n",
    "sparkify_events[\"userId\", \"downgrade\"].dropDuplicates().groupby(\"downgrade\").count().show()"
   ]
  },
  {
   "cell_type": "markdown",
   "metadata": {},
   "source": [
    "### Explore Data\n",
    "Once you've defined churn, perform some exploratory data analysis to observe the behavior for users who stayed vs users who churned. You can start by exploring aggregates on these two groups of users, observing how much of a specific action they experienced per a certain time unit or number of songs played."
   ]
  },
  {
   "cell_type": "markdown",
   "metadata": {},
   "source": [
    "# Feature Engineering\n",
    "Once you've familiarized yourself with the data, build out the features you find promising to train your model on. To work with the full dataset, you can follow the following steps.\n",
    "- Write a script to extract the necessary features from the smaller subset of data\n",
    "- Ensure that your script is scalable, using the best practices discussed in Lesson 3\n",
    "- Try your script on the full data set, debugging your script if necessary\n",
    "\n",
    "If you are working in the classroom workspace, you can just extract features based on the small subset of data contained here. Be sure to transfer over this work to the larger dataset when you work on your Spark cluster."
   ]
  },
  {
   "cell_type": "code",
   "execution_count": null,
   "metadata": {},
   "outputs": [],
   "source": []
  },
  {
   "cell_type": "markdown",
   "metadata": {},
   "source": [
    "# Modeling\n",
    "Split the full dataset into train, test, and validation sets. Test out several of the machine learning methods you learned. Evaluate the accuracy of the various models, tuning parameters as necessary. Determine your winning model based on test accuracy and report results on the validation set. Since the churned users are a fairly small subset, I suggest using F1 score as the metric to optimize."
   ]
  },
  {
   "cell_type": "code",
   "execution_count": null,
   "metadata": {},
   "outputs": [],
   "source": []
  },
  {
   "cell_type": "markdown",
   "metadata": {},
   "source": [
    "# Final Steps\n",
    "Clean up your code, adding comments and renaming variables to make the code easier to read and maintain. Refer to the Spark Project Overview page and Data Scientist Capstone Project Rubric to make sure you are including all components of the capstone project and meet all expectations. Remember, this includes thorough documentation in a README file in a Github repository, as well as a web app or blog post."
   ]
  },
  {
   "cell_type": "code",
   "execution_count": null,
   "metadata": {},
   "outputs": [],
   "source": []
  }
 ],
 "metadata": {
  "kernelspec": {
   "display_name": "Python 3",
   "language": "python",
   "name": "python3"
  },
  "language_info": {
   "codemirror_mode": {
    "name": "ipython",
    "version": 3
   },
   "file_extension": ".py",
   "mimetype": "text/x-python",
   "name": "python",
   "nbconvert_exporter": "python",
   "pygments_lexer": "ipython3",
   "version": "3.8.5"
  }
 },
 "nbformat": 4,
 "nbformat_minor": 2
}
